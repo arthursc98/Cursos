{
 "cells": [
  {
   "cell_type": "markdown",
   "metadata": {},
   "source": [
    "# LSTM with MNIST Dataset"
   ]
  },
  {
   "cell_type": "code",
   "execution_count": 1,
   "metadata": {},
   "outputs": [],
   "source": [
    "import numpy as np\n",
    "import matplotlib.pyplot as plt\n",
    "import tensorflow as tf\n",
    "%matplotlib inline"
   ]
  },
  {
   "cell_type": "code",
   "execution_count": 3,
   "metadata": {},
   "outputs": [
    {
     "name": "stdout",
     "output_type": "stream",
     "text": [
      "Extracting .\\train-images-idx3-ubyte.gz\n",
      "Extracting .\\train-labels-idx1-ubyte.gz\n",
      "Extracting .\\t10k-images-idx3-ubyte.gz\n",
      "Extracting .\\t10k-labels-idx1-ubyte.gz\n"
     ]
    }
   ],
   "source": [
    "from tensorflow.examples.tutorials.mnist import input_data\n",
    "mnist = input_data.read_data_sets(\".\", one_hot=True)"
   ]
  },
  {
   "cell_type": "markdown",
   "metadata": {},
   "source": [
    "The argument **(`one_hot=False`)** creates the label arrays as 10-dimensional binary vectors (only zeros and ones), in which the index cell for the number one, is the class label."
   ]
  },
  {
   "cell_type": "code",
   "execution_count": 5,
   "metadata": {},
   "outputs": [
    {
     "name": "stdout",
     "output_type": "stream",
     "text": [
      "Train Images:  (55000, 784)\n",
      "Train Labels   (55000, 10)\n",
      "Test Images:   (10000, 784)\n",
      "Test Labels:   (10000, 10)\n"
     ]
    }
   ],
   "source": [
    "trainimgs = mnist.train.images\n",
    "trainlabels = mnist.train.labels\n",
    "testimgs = mnist.test.images\n",
    "testlabels = mnist.test.labels \n",
    "\n",
    "ntrain = trainimgs.shape[0]\n",
    "ntest = testimgs.shape[0]\n",
    "dim = trainimgs.shape[1]\n",
    "nclasses = trainlabels.shape[1]\n",
    "print (\"Train Images: \", trainimgs.shape)\n",
    "print (\"Train Labels  \", trainlabels.shape)\n",
    "print (\"Test Images:  \" , testimgs.shape)\n",
    "print (\"Test Labels:  \", testlabels.shape)"
   ]
  },
  {
   "cell_type": "markdown",
   "metadata": {},
   "source": [
    "The next code snippet prints the **label vector** (one_hot format), **the class** and actual sample formatted as **image**:"
   ]
  },
  {
   "cell_type": "code",
   "execution_count": 6,
   "metadata": {},
   "outputs": [
    {
     "data": {
      "image/png": "[encoded data removed]",
      "text/plain": [
       "<Figure size 432x288 with 2 Axes>"
      ]
     },
     "metadata": {
      "needs_background": "light"
     },
     "output_type": "display_data"
    },
    {
     "name": "stdout",
     "output_type": "stream",
     "text": [
      "Sample: 100 - Class: [6] - Label Vector: [0. 0. 0. 0. 0. 0. 1. 0. 0. 0.] \n",
      "Sample: 101 - Class: [0] - Label Vector: [1. 0. 0. 0. 0. 0. 0. 0. 0. 0.] \n",
      "Sample: 102 - Class: [5] - Label Vector: [0. 0. 0. 0. 0. 1. 0. 0. 0. 0.] \n"
     ]
    }
   ],
   "source": [
    "samplesIdx = [100, 101, 102]  #<-- You can change these numbers here to see other samples\n",
    "\n",
    "from mpl_toolkits.mplot3d import Axes3D\n",
    "fig = plt.figure()\n",
    "ax1 = fig.add_subplot(121)\n",
    "ax1.imshow(testimgs[samplesIdx[0]].reshape([28,28]), cmap='gray')\n",
    "xx, yy = np.meshgrid(np.linspace(0,28,28), np.linspace(0,28,28))\n",
    "X =  xx ; Y =  yy\n",
    "Z =  100*np.ones(X.shape)\n",
    "img = testimgs[77].reshape([28,28])\n",
    "ax = fig.add_subplot(122, projection='3d')\n",
    "ax.set_zlim((0,200))\n",
    "offset=200\n",
    "for i in samplesIdx:\n",
    "    img = testimgs[i].reshape([28,28]).transpose()\n",
    "    ax.contourf(X, Y, img, 200, zdir='z', offset=offset, cmap=\"gray\")\n",
    "    offset -= 100\n",
    "    ax.set_xticks([])\n",
    "ax.set_yticks([])\n",
    "ax.set_zticks([])\n",
    "plt.show()\n",
    "\n",
    "for i in samplesIdx:\n",
    "    print (\"Sample: {0} - Class: {1} - Label Vector: {2} \".format(i, np.nonzero(testlabels[i])[0], testlabels[i]))"
   ]
  },
  {
   "cell_type": "markdown",
   "metadata": {},
   "source": [
    "#### Our simple RNN consists of  \n",
    "1. One input layer which converts a $28*28$ dimensional input to an $128$ dimensional hidden layer, \n",
    "2. One intermediate recurrent neural network (LSTM) \n",
    "3. One output layer which converts an $128$ dimensional output of the LSTM to $10$ dimensional output indicating a class label. "
   ]
  },
  {
   "cell_type": "code",
   "execution_count": 7,
   "metadata": {},
   "outputs": [],
   "source": [
    "n_input = 28 # MNIST data input (img shape: 28*28)\n",
    "n_steps = 28 # timesteps\n",
    "n_hidden = 128 # hidden layer num of features\n",
    "n_classes = 10 # MNIST total classes (0-9 digits)\n",
    "\n",
    "\n",
    "learning_rate = 0.001\n",
    "training_iters = 100000\n",
    "batch_size = 100\n",
    "display_step = 10"
   ]
  },
  {
   "cell_type": "markdown",
   "metadata": {},
   "source": [
    "### Construct a RNN"
   ]
  },
  {
   "cell_type": "markdown",
   "metadata": {},
   "source": [
    "The input should be a Tensor of shape: [batch_size, time_steps, input_dimension], but in our case it would be (?, 28, 28)"
   ]
  },
  {
   "cell_type": "code",
   "execution_count": 8,
   "metadata": {},
   "outputs": [],
   "source": [
    "x = tf.placeholder(dtype=\"float\", shape=[None, n_steps, n_input], name=\"x\") # Current data input shape: (batch_size, n_steps, n_input) [100x28x28]\n",
    "y = tf.placeholder(dtype=\"float\", shape=[None, n_classes], name=\"y\")"
   ]
  },
  {
   "cell_type": "markdown",
   "metadata": {},
   "source": [
    "Lets create the weight and biases for the read out layer"
   ]
  },
  {
   "cell_type": "code",
   "execution_count": 9,
   "metadata": {},
   "outputs": [
    {
     "name": "stdout",
     "output_type": "stream",
     "text": [
      "WARNING:tensorflow:From C:\\Users\\Arthur\\Anaconda3\\lib\\site-packages\\tensorflow\\python\\framework\\op_def_library.py:263: colocate_with (from tensorflow.python.framework.ops) is deprecated and will be removed in a future version.\n",
      "Instructions for updating:\n",
      "Colocations handled automatically by placer.\n"
     ]
    }
   ],
   "source": [
    "weights = {\n",
    "    'out': tf.Variable(tf.random_normal([n_hidden, n_classes]))\n",
    "}\n",
    "biases = {\n",
    "    'out': tf.Variable(tf.random_normal([n_classes]))\n",
    "}"
   ]
  },
  {
   "cell_type": "markdown",
   "metadata": {},
   "source": [
    "Define the lstm cell."
   ]
  },
  {
   "cell_type": "code",
   "execution_count": 12,
   "metadata": {},
   "outputs": [],
   "source": [
    "lstm_cell = tf.contrib.rnn.BasicLSTMCell(n_hidden, forget_bias=1.0)"
   ]
  },
  {
   "cell_type": "markdown",
   "metadata": {},
   "source": [
    "Creating the RNN specified from lstm_cell"
   ]
  },
  {
   "cell_type": "code",
   "execution_count": 18,
   "metadata": {},
   "outputs": [],
   "source": [
    "outputs, states = tf.nn.dynamic_rnn(lstm_cell, inputs=x, dtype=tf.float32)"
   ]
  },
  {
   "cell_type": "markdown",
   "metadata": {},
   "source": [
    "The output of the rnn would be a [100x28x128] matrix. we use the linear activation to map it to a [?x10 matrix]"
   ]
  },
  {
   "cell_type": "code",
   "execution_count": 19,
   "metadata": {},
   "outputs": [],
   "source": [
    "output = tf.reshape(tf.split(outputs, 28, axis=1, num=None, name='split')[-1],[-1,128])\n",
    "pred = tf.matmul(output, weights['out']) + biases['out']"
   ]
  },
  {
   "cell_type": "code",
   "execution_count": 20,
   "metadata": {},
   "outputs": [
    {
     "data": {
      "text/plain": [
       "<tf.Tensor 'add:0' shape=(?, 10) dtype=float32>"
      ]
     },
     "execution_count": 20,
     "metadata": {},
     "output_type": "execute_result"
    }
   ],
   "source": [
    "pred"
   ]
  },
  {
   "cell_type": "markdown",
   "metadata": {},
   "source": [
    "Defining the cost function and optimizer."
   ]
  },
  {
   "cell_type": "code",
   "execution_count": 21,
   "metadata": {},
   "outputs": [
    {
     "name": "stdout",
     "output_type": "stream",
     "text": [
      "WARNING:tensorflow:From <ipython-input-21-901d12311984>:1: softmax_cross_entropy_with_logits (from tensorflow.python.ops.nn_ops) is deprecated and will be removed in a future version.\n",
      "Instructions for updating:\n",
      "\n",
      "Future major versions of TensorFlow will allow gradients to flow\n",
      "into the labels input on backprop by default.\n",
      "\n",
      "See `tf.nn.softmax_cross_entropy_with_logits_v2`.\n",
      "\n"
     ]
    }
   ],
   "source": [
    "cost = tf.reduce_mean(tf.nn.softmax_cross_entropy_with_logits(labels=y, logits=pred ))\n",
    "optimizer = tf.train.AdamOptimizer(learning_rate=learning_rate).minimize(cost)"
   ]
  },
  {
   "cell_type": "markdown",
   "metadata": {},
   "source": [
    "Checking the accuracy of our model"
   ]
  },
  {
   "cell_type": "code",
   "execution_count": 22,
   "metadata": {},
   "outputs": [],
   "source": [
    "correct_pred = tf.equal(tf.argmax(pred,1), tf.argmax(y,1))\n",
    "accuracy = tf.reduce_mean(tf.cast(correct_pred, tf.float32))"
   ]
  },
  {
   "cell_type": "markdown",
   "metadata": {},
   "source": [
    "Just recall that we will treat the MNIST image $\\in \\mathcal{R}^{28 \\times 28}$ as $28$ sequences of a vector $\\mathbf{x} \\in \\mathcal{R}^{28}$. "
   ]
  },
  {
   "cell_type": "code",
   "execution_count": 25,
   "metadata": {},
   "outputs": [
    {
     "name": "stdout",
     "output_type": "stream",
     "text": [
      "Iter 1000, Minibatch Loss= 1.899256, Training Accuracy= 0.37000\n",
      "Iter 2000, Minibatch Loss= 1.505897, Training Accuracy= 0.48000\n",
      "Iter 3000, Minibatch Loss= 1.246480, Training Accuracy= 0.58000\n",
      "Iter 4000, Minibatch Loss= 0.884689, Training Accuracy= 0.68000\n",
      "Iter 5000, Minibatch Loss= 0.997128, Training Accuracy= 0.66000\n",
      "Iter 6000, Minibatch Loss= 0.710872, Training Accuracy= 0.77000\n",
      "Iter 7000, Minibatch Loss= 0.890940, Training Accuracy= 0.70000\n",
      "Iter 8000, Minibatch Loss= 0.491488, Training Accuracy= 0.82000\n",
      "Iter 9000, Minibatch Loss= 0.584373, Training Accuracy= 0.81000\n",
      "Iter 10000, Minibatch Loss= 0.539029, Training Accuracy= 0.81000\n",
      "Iter 11000, Minibatch Loss= 0.447576, Training Accuracy= 0.83000\n",
      "Iter 12000, Minibatch Loss= 0.507355, Training Accuracy= 0.87000\n",
      "Iter 13000, Minibatch Loss= 0.287036, Training Accuracy= 0.90000\n",
      "Iter 14000, Minibatch Loss= 0.401520, Training Accuracy= 0.86000\n",
      "Iter 15000, Minibatch Loss= 0.433802, Training Accuracy= 0.86000\n",
      "Iter 16000, Minibatch Loss= 0.195911, Training Accuracy= 0.94000\n",
      "Iter 17000, Minibatch Loss= 0.135661, Training Accuracy= 0.98000\n",
      "Iter 18000, Minibatch Loss= 0.178254, Training Accuracy= 0.95000\n",
      "Iter 19000, Minibatch Loss= 0.345161, Training Accuracy= 0.89000\n",
      "Iter 20000, Minibatch Loss= 0.289246, Training Accuracy= 0.92000\n",
      "Iter 21000, Minibatch Loss= 0.347006, Training Accuracy= 0.88000\n",
      "Iter 22000, Minibatch Loss= 0.148185, Training Accuracy= 0.93000\n",
      "Iter 23000, Minibatch Loss= 0.177621, Training Accuracy= 0.96000\n",
      "Iter 24000, Minibatch Loss= 0.284013, Training Accuracy= 0.89000\n",
      "Iter 25000, Minibatch Loss= 0.202833, Training Accuracy= 0.94000\n",
      "Iter 26000, Minibatch Loss= 0.246101, Training Accuracy= 0.91000\n",
      "Iter 27000, Minibatch Loss= 0.229670, Training Accuracy= 0.90000\n",
      "Iter 28000, Minibatch Loss= 0.221928, Training Accuracy= 0.95000\n",
      "Iter 29000, Minibatch Loss= 0.241836, Training Accuracy= 0.93000\n",
      "Iter 30000, Minibatch Loss= 0.219212, Training Accuracy= 0.92000\n",
      "Iter 31000, Minibatch Loss= 0.217606, Training Accuracy= 0.94000\n",
      "Iter 32000, Minibatch Loss= 0.177460, Training Accuracy= 0.94000\n",
      "Iter 33000, Minibatch Loss= 0.195911, Training Accuracy= 0.93000\n",
      "Iter 34000, Minibatch Loss= 0.263542, Training Accuracy= 0.94000\n",
      "Iter 35000, Minibatch Loss= 0.364273, Training Accuracy= 0.91000\n",
      "Iter 36000, Minibatch Loss= 0.213581, Training Accuracy= 0.93000\n",
      "Iter 37000, Minibatch Loss= 0.199104, Training Accuracy= 0.93000\n",
      "Iter 38000, Minibatch Loss= 0.155060, Training Accuracy= 0.97000\n",
      "Iter 39000, Minibatch Loss= 0.098408, Training Accuracy= 0.98000\n",
      "Iter 40000, Minibatch Loss= 0.132732, Training Accuracy= 0.95000\n",
      "Iter 41000, Minibatch Loss= 0.146468, Training Accuracy= 0.95000\n",
      "Iter 42000, Minibatch Loss= 0.151174, Training Accuracy= 0.95000\n",
      "Iter 43000, Minibatch Loss= 0.223788, Training Accuracy= 0.91000\n",
      "Iter 44000, Minibatch Loss= 0.071738, Training Accuracy= 0.98000\n",
      "Iter 45000, Minibatch Loss= 0.219033, Training Accuracy= 0.92000\n",
      "Iter 46000, Minibatch Loss= 0.086909, Training Accuracy= 0.97000\n",
      "Iter 47000, Minibatch Loss= 0.123210, Training Accuracy= 0.96000\n",
      "Iter 48000, Minibatch Loss= 0.217183, Training Accuracy= 0.93000\n",
      "Iter 49000, Minibatch Loss= 0.149616, Training Accuracy= 0.93000\n",
      "Iter 50000, Minibatch Loss= 0.151418, Training Accuracy= 0.95000\n",
      "Iter 51000, Minibatch Loss= 0.199337, Training Accuracy= 0.94000\n",
      "Iter 52000, Minibatch Loss= 0.264800, Training Accuracy= 0.92000\n",
      "Iter 53000, Minibatch Loss= 0.137890, Training Accuracy= 0.94000\n",
      "Iter 54000, Minibatch Loss= 0.143942, Training Accuracy= 0.94000\n",
      "Iter 55000, Minibatch Loss= 0.085291, Training Accuracy= 0.98000\n",
      "Iter 56000, Minibatch Loss= 0.162935, Training Accuracy= 0.97000\n",
      "Iter 57000, Minibatch Loss= 0.138400, Training Accuracy= 0.95000\n",
      "Iter 58000, Minibatch Loss= 0.061951, Training Accuracy= 0.98000\n",
      "Iter 59000, Minibatch Loss= 0.200408, Training Accuracy= 0.96000\n",
      "Iter 60000, Minibatch Loss= 0.108361, Training Accuracy= 0.96000\n",
      "Iter 61000, Minibatch Loss= 0.125845, Training Accuracy= 0.96000\n",
      "Iter 62000, Minibatch Loss= 0.065111, Training Accuracy= 0.98000\n",
      "Iter 63000, Minibatch Loss= 0.070407, Training Accuracy= 0.99000\n",
      "Iter 64000, Minibatch Loss= 0.070805, Training Accuracy= 0.98000\n",
      "Iter 65000, Minibatch Loss= 0.057684, Training Accuracy= 0.98000\n",
      "Iter 66000, Minibatch Loss= 0.272226, Training Accuracy= 0.93000\n",
      "Iter 67000, Minibatch Loss= 0.112872, Training Accuracy= 0.97000\n",
      "Iter 68000, Minibatch Loss= 0.142880, Training Accuracy= 0.95000\n",
      "Iter 69000, Minibatch Loss= 0.058949, Training Accuracy= 0.98000\n",
      "Iter 70000, Minibatch Loss= 0.228856, Training Accuracy= 0.96000\n",
      "Iter 71000, Minibatch Loss= 0.121130, Training Accuracy= 0.96000\n",
      "Iter 72000, Minibatch Loss= 0.075387, Training Accuracy= 0.99000\n",
      "Iter 73000, Minibatch Loss= 0.070904, Training Accuracy= 0.98000\n",
      "Iter 74000, Minibatch Loss= 0.027473, Training Accuracy= 1.00000\n",
      "Iter 75000, Minibatch Loss= 0.099716, Training Accuracy= 0.98000\n",
      "Iter 76000, Minibatch Loss= 0.185994, Training Accuracy= 0.95000\n",
      "Iter 77000, Minibatch Loss= 0.102792, Training Accuracy= 0.97000\n",
      "Iter 78000, Minibatch Loss= 0.051850, Training Accuracy= 1.00000\n",
      "Iter 79000, Minibatch Loss= 0.100563, Training Accuracy= 0.97000\n",
      "Iter 80000, Minibatch Loss= 0.136315, Training Accuracy= 0.96000\n",
      "Iter 81000, Minibatch Loss= 0.148224, Training Accuracy= 0.95000\n",
      "Iter 82000, Minibatch Loss= 0.159132, Training Accuracy= 0.97000\n",
      "Iter 83000, Minibatch Loss= 0.070156, Training Accuracy= 0.98000\n",
      "Iter 84000, Minibatch Loss= 0.054066, Training Accuracy= 0.98000\n",
      "Iter 85000, Minibatch Loss= 0.136738, Training Accuracy= 0.96000\n",
      "Iter 86000, Minibatch Loss= 0.030347, Training Accuracy= 1.00000\n",
      "Iter 87000, Minibatch Loss= 0.135409, Training Accuracy= 0.97000\n",
      "Iter 88000, Minibatch Loss= 0.059826, Training Accuracy= 0.99000\n",
      "Iter 89000, Minibatch Loss= 0.096695, Training Accuracy= 0.97000\n",
      "Iter 90000, Minibatch Loss= 0.134738, Training Accuracy= 0.97000\n",
      "Iter 91000, Minibatch Loss= 0.145103, Training Accuracy= 0.95000\n",
      "Iter 92000, Minibatch Loss= 0.113621, Training Accuracy= 0.96000\n",
      "Iter 93000, Minibatch Loss= 0.042105, Training Accuracy= 0.99000\n",
      "Iter 94000, Minibatch Loss= 0.050355, Training Accuracy= 1.00000\n",
      "Iter 95000, Minibatch Loss= 0.012722, Training Accuracy= 1.00000\n",
      "Iter 96000, Minibatch Loss= 0.069410, Training Accuracy= 0.96000\n",
      "Iter 97000, Minibatch Loss= 0.226894, Training Accuracy= 0.95000\n",
      "Iter 98000, Minibatch Loss= 0.097450, Training Accuracy= 0.97000\n",
      "Iter 99000, Minibatch Loss= 0.168878, Training Accuracy= 0.94000\n",
      "Optimization Finished!\n",
      "Testing Accuracy: 0.9921875\n"
     ]
    }
   ],
   "source": [
    "init = tf.global_variables_initializer()\n",
    "\n",
    "with tf.Session() as sess:\n",
    "    sess.run(init)\n",
    "    step = 1\n",
    "    # Keep training until reach max iterations\n",
    "    while step * batch_size < training_iters:\n",
    "\n",
    "        # We will read a batch of 100 images [100 x 784] as batch_x\n",
    "        # batch_y is a matrix of [100x10]\n",
    "        batch_x, batch_y = mnist.train.next_batch(batch_size)\n",
    "        \n",
    "        # We consider each row of the image as one sequence\n",
    "        # Reshape data to get 28 seq of 28 elements, so that, batxh_x is [100x28x28]\n",
    "        batch_x = batch_x.reshape((batch_size, n_steps, n_input))\n",
    "    \n",
    "\n",
    "        # Run optimization op (backprop)\n",
    "        sess.run(optimizer, feed_dict={x: batch_x, y: batch_y})\n",
    "        \n",
    "        \n",
    "        if step % display_step == 0:\n",
    "            # Calculate batch accuracy\n",
    "            acc = sess.run(accuracy, feed_dict={x: batch_x, y: batch_y})\n",
    "            # Calculate batch loss\n",
    "            loss = sess.run(cost, feed_dict={x: batch_x, y: batch_y})\n",
    "            print(\"Iter \" + str(step*batch_size) + \", Minibatch Loss= \" + \\\n",
    "                  \"{:.6f}\".format(loss) + \", Training Accuracy= \" + \\\n",
    "                  \"{:.5f}\".format(acc))\n",
    "        step += 1\n",
    "    print(\"Optimization Finished!\")\n",
    "\n",
    "    # Calculate accuracy for 128 mnist test images\n",
    "    test_len = 128\n",
    "    test_data = mnist.test.images[:test_len].reshape((-1, n_steps, n_input))\n",
    "    test_label = mnist.test.labels[:test_len]\n",
    "    print(\"Testing Accuracy:\", \\\n",
    "        sess.run(accuracy, feed_dict={x: test_data, y: test_label}))"
   ]
  },
  {
   "cell_type": "code",
   "execution_count": 26,
   "metadata": {},
   "outputs": [],
   "source": [
    "sess.close()"
   ]
  },
  {
   "cell_type": "code",
   "execution_count": null,
   "metadata": {},
   "outputs": [],
   "source": []
  }
 ],
 "metadata": {
  "kernelspec": {
   "display_name": "Python 3",
   "language": "python",
   "name": "python3"
  },
  "language_info": {
   "codemirror_mode": {
    "name": "ipython",
    "version": 3
   },
   "file_extension": ".py",
   "mimetype": "text/x-python",
   "name": "python",
   "nbconvert_exporter": "python",
   "pygments_lexer": "ipython3",
   "version": "3.7.1"
  }
 },
 "nbformat": 4,
 "nbformat_minor": 2
}
