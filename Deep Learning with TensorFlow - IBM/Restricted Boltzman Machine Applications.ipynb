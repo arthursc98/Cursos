{
 "cells": [
  {
   "cell_type": "markdown",
   "metadata": {},
   "source": [
    "# RBM"
   ]
  },
  {
   "attachments": {},
   "cell_type": "markdown",
   "metadata": {},
   "source": [
    "<h3> RBM is a type of Autoencoder but use stochastic approach insted of deterministic approach</h3>\n",
    "<hr>\n",
    "<h3> Common applications of RBM</h3>\n",
    "<li> Dimensionality reduction\n",
    "<li> Feature extraction\n",
    "<li> Collaborative Filtering\n",
    "<li> Main component of DBN(Deep Belief Network)</li>\n",
    "<hr>\n",
    "<h3> RBMs are shallow neural networks:</h3>\n",
    "<li> 2 layers (Input and hidden layer)\n",
    "<li> Unsupervised\n",
    "<li> Find patterns in data by reconstructing the input</li>\n",
    "<hr>\n",
    "<h3> Forward Pass</h3>\n",
    "The process between the input layer and the hidden layer we use a function activation like sigmoid, relu, tanh, it's your choice.\n",
    "<hr>\n",
    "<h3> Backward Pass</h3>\n",
    "Basically the same process of forward pass but backwards having some error and doing stochastic probability to predict the NaN values(Something like a recommendations system)<br>\n",
    "How the net calculate the error for optimization?<br>\n",
    "$(step_1 - step_2)^2$\n",
    "<hr>\n",
    "<h3> Advantages of using RBM</h3>\n",
    "<li> Handling unlabeled data\n",
    "<li> Extract important features from the input\n",
    "<li> More efficient than PCA"
   ]
  },
  {
   "cell_type": "code",
   "execution_count": null,
   "metadata": {},
   "outputs": [],
   "source": []
  }
 ],
 "metadata": {
  "kernelspec": {
   "display_name": "Python 3",
   "language": "python",
   "name": "python3"
  },
  "language_info": {
   "codemirror_mode": {
    "name": "ipython",
    "version": 3
   },
   "file_extension": ".py",
   "mimetype": "text/x-python",
   "name": "python",
   "nbconvert_exporter": "python",
   "pygments_lexer": "ipython3",
   "version": "3.7.1"
  }
 },
 "nbformat": 4,
 "nbformat_minor": 2
}
