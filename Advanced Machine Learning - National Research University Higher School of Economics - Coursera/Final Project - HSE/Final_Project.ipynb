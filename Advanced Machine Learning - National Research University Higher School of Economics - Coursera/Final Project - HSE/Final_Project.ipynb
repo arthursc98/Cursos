{
 "cells": [
  {
   "cell_type": "markdown",
   "metadata": {
    "colab_type": "text",
    "id": "Fa33xtV1gJ7v"
   },
   "source": [
    "## How to Win a Data Science Competition\n",
    "### Final Project\n",
    "Note: The EDA it's in another IPython called Final_Project_EDA.\n",
    "<hr>\n",
    "<h3>Criteria</h3>"
   ]
  },
  {
   "cell_type": "markdown",
   "metadata": {
    "colab_type": "text",
    "id": "WfjtcqAzgJ7z"
   },
   "source": [
    "Clarity\n",
    "- The clear step-by-step instruction on how to produce the final submit file is provided\n",
    "- Code has comments where it is needed and meaningful function names\n",
    "\n",
    "Feature preprocessing and generation with respect to models\n",
    "- Several simple features are generated\n",
    "- For non-tree-based models preprocessing is used or the absence of it is explained\n",
    "\n",
    "Feature extraction from text and images\n",
    "- Features from text are extracted\n",
    "- Special preprocessings for text are utilized (TF-IDF, stemming, levenshtening...)\n",
    "\n",
    "EDA\n",
    "- Several interesting observations about data are discovered and explained\n",
    "- Target distribution is visualized, time trend is assessed\n",
    "\n",
    "Validation\n",
    "- Type of train/test split is identified and used for validation\n",
    "- Type of public/private split is identified\n",
    "\n",
    "Data leakages\n",
    "- Data is investigated for data leakages and investigation process is described\n",
    "- Found data leakages are utilized\n",
    "Metrics optimization\n",
    "- Correct metric is optimized\n",
    "\n",
    "Advanced Features I: mean encodings\n",
    "- Mean-encoding is applied\n",
    "- Mean-encoding is set up correctly, i.e. KFold or expanding scheme are utilized correctly\n",
    "\n",
    "Advanced Features II\n",
    "- At least one feature from this topic is introduced\n",
    "\n",
    "Hyperparameter tuning\n",
    "- Parameters of models are roughly optimal\n",
    "\n",
    "Ensembles\n",
    "- Ensembling is utilized (linear combination counts)\n",
    "- Validation with ensembling scheme is set up correctly, i.e. KFold or Holdout is utilized\n",
    "- Models from different classes are utilized (at least two from the following: KNN, linear models, RF, GBDT, NN)"
   ]
  },
  {
   "cell_type": "markdown",
   "metadata": {
    "colab_type": "text",
    "id": "0LlTfc1fgJ76"
   },
   "source": [
    "### Loading the data"
   ]
  },
  {
   "cell_type": "code",
   "execution_count": 2,
   "metadata": {
    "colab": {},
    "colab_type": "code",
    "id": "dGZQr6jzgJ79"
   },
   "outputs": [],
   "source": [
    "# imports\n",
    "import warnings\n",
    "warnings.filterwarnings(\"ignore\")\n",
    "from itertools import product\n",
    "import gc\n",
    "import numpy as np\n",
    "import pandas as pd\n",
    "import lightgbm as lgb\n",
    "import utils\n",
    "import shap\n",
    "import matplotlib.pyplot as plt\n",
    "from itertools import product\n",
    "from copy import deepcopy\n",
    "from sklearn.externals import joblib\n",
    "from sklearn.metrics import r2_score, mean_squared_error\n",
    "from sklearn.preprocessing import StandardScaler\n",
    "from sklearn.preprocessing import LabelEncoder\n",
    "from sklearn.model_selection import KFold\n",
    "from sklearn.linear_model import LinearRegression\n",
    "%matplotlib inline"
   ]
  },
  {
   "cell_type": "code",
   "execution_count": 5,
   "metadata": {
    "colab": {},
    "colab_type": "code",
    "id": "bVkB4Rt-ieYa"
   },
   "outputs": [],
   "source": [
    "train = pd.read_csv('sales_train.csv')\n",
    "test = pd.read_csv('test.csv').set_index('ID')\n",
    "items = pd.read_csv('items.csv')\n",
    "item_categories = pd.read_csv('item_categories.csv')\n",
    "shops = pd.read_csv('shops.csv')"
   ]
  },
  {
   "cell_type": "code",
   "execution_count": 9,
   "metadata": {
    "colab": {
     "base_uri": "https://localhost:8080/",
     "height": 411
    },
    "colab_type": "code",
    "executionInfo": {
     "elapsed": 6313,
     "status": "ok",
     "timestamp": 1587518814182,
     "user": {
      "displayName": "Tsuyoru or Hedwig",
      "photoUrl": "https://lh3.googleusercontent.com/a-/AOh14Gh7yyKv8Og1Bb0RtvY248fLUYI68SxgHKo8aKRf=s64",
      "userId": "06866217931821730788"
     },
     "user_tz": 180
    },
    "id": "WY9j-JC6gJ8e",
    "outputId": "a513742a-4a68-4884-ec6a-7467564d387e"
   },
   "outputs": [],
   "source": [
    "train['sales'] = train['item_cnt_day']*train['item_price']"
   ]
  },
  {
   "cell_type": "code",
   "execution_count": 10,
   "metadata": {
    "colab": {},
    "colab_type": "code",
    "id": "LZI0ESjCgJ8q"
   },
   "outputs": [
    {
     "name": "stdout",
     "output_type": "stream",
     "text": [
      "<class 'pandas.core.frame.DataFrame'>\n",
      "RangeIndex: 2935849 entries, 0 to 2935848\n",
      "Data columns (total 7 columns):\n",
      "date              object\n",
      "date_block_num    int64\n",
      "shop_id           int64\n",
      "item_id           int64\n",
      "item_price        float64\n",
      "item_cnt_day      float64\n",
      "sales             float64\n",
      "dtypes: float64(3), int64(3), object(1)\n",
      "memory usage: 156.8+ MB\n"
     ]
    }
   ],
   "source": [
    "train.info()"
   ]
  },
  {
   "cell_type": "code",
   "execution_count": 11,
   "metadata": {
    "colab": {
     "base_uri": "https://localhost:8080/",
     "height": 272
    },
    "colab_type": "code",
    "executionInfo": {
     "elapsed": 3524,
     "status": "ok",
     "timestamp": 1587518814184,
     "user": {
      "displayName": "Tsuyoru or Hedwig",
      "photoUrl": "https://lh3.googleusercontent.com/a-/AOh14Gh7yyKv8Og1Bb0RtvY248fLUYI68SxgHKo8aKRf=s64",
      "userId": "06866217931821730788"
     },
     "user_tz": 180
    },
    "id": "w_MVsTZ7gJ8z",
    "outputId": "78308c95-d824-4987-cd5d-4527bd94b05d"
   },
   "outputs": [
    {
     "name": "stdout",
     "output_type": "stream",
     "text": [
      "<class 'pandas.core.frame.DataFrame'>\n",
      "Int64Index: 214200 entries, 0 to 214199\n",
      "Data columns (total 2 columns):\n",
      "shop_id    214200 non-null int64\n",
      "item_id    214200 non-null int64\n",
      "dtypes: int64(2)\n",
      "memory usage: 4.9 MB\n"
     ]
    }
   ],
   "source": [
    "test.info()"
   ]
  },
  {
   "cell_type": "code",
   "execution_count": 12,
   "metadata": {
    "colab": {
     "base_uri": "https://localhost:8080/",
     "height": 235
    },
    "colab_type": "code",
    "executionInfo": {
     "elapsed": 2771,
     "status": "ok",
     "timestamp": 1587518814185,
     "user": {
      "displayName": "Tsuyoru or Hedwig",
      "photoUrl": "https://lh3.googleusercontent.com/a-/AOh14Gh7yyKv8Og1Bb0RtvY248fLUYI68SxgHKo8aKRf=s64",
      "userId": "06866217931821730788"
     },
     "user_tz": 180
    },
    "id": "9_SqKb6hgJ9I",
    "outputId": "de06260d-434c-4216-fdb0-aa140d3c1b8d"
   },
   "outputs": [
    {
     "data": {
      "text/html": [
       "<div>\n",
       "<style scoped>\n",
       "    .dataframe tbody tr th:only-of-type {\n",
       "        vertical-align: middle;\n",
       "    }\n",
       "\n",
       "    .dataframe tbody tr th {\n",
       "        vertical-align: top;\n",
       "    }\n",
       "\n",
       "    .dataframe thead th {\n",
       "        text-align: right;\n",
       "    }\n",
       "</style>\n",
       "<table border=\"1\" class=\"dataframe\">\n",
       "  <thead>\n",
       "    <tr style=\"text-align: right;\">\n",
       "      <th></th>\n",
       "      <th>item_name</th>\n",
       "      <th>item_id</th>\n",
       "      <th>item_category_id</th>\n",
       "    </tr>\n",
       "  </thead>\n",
       "  <tbody>\n",
       "    <tr>\n",
       "      <td>0</td>\n",
       "      <td>! ВО ВЛАСТИ НАВАЖДЕНИЯ (ПЛАСТ.)         D</td>\n",
       "      <td>0</td>\n",
       "      <td>40</td>\n",
       "    </tr>\n",
       "    <tr>\n",
       "      <td>1</td>\n",
       "      <td>!ABBYY FineReader 12 Professional Edition Full...</td>\n",
       "      <td>1</td>\n",
       "      <td>76</td>\n",
       "    </tr>\n",
       "    <tr>\n",
       "      <td>2</td>\n",
       "      <td>***В ЛУЧАХ СЛАВЫ   (UNV)                    D</td>\n",
       "      <td>2</td>\n",
       "      <td>40</td>\n",
       "    </tr>\n",
       "    <tr>\n",
       "      <td>3</td>\n",
       "      <td>***ГОЛУБАЯ ВОЛНА  (Univ)                      D</td>\n",
       "      <td>3</td>\n",
       "      <td>40</td>\n",
       "    </tr>\n",
       "    <tr>\n",
       "      <td>4</td>\n",
       "      <td>***КОРОБКА (СТЕКЛО)                       D</td>\n",
       "      <td>4</td>\n",
       "      <td>40</td>\n",
       "    </tr>\n",
       "  </tbody>\n",
       "</table>\n",
       "</div>"
      ],
      "text/plain": [
       "                                           item_name  item_id  \\\n",
       "0          ! ВО ВЛАСТИ НАВАЖДЕНИЯ (ПЛАСТ.)         D        0   \n",
       "1  !ABBYY FineReader 12 Professional Edition Full...        1   \n",
       "2      ***В ЛУЧАХ СЛАВЫ   (UNV)                    D        2   \n",
       "3    ***ГОЛУБАЯ ВОЛНА  (Univ)                      D        3   \n",
       "4        ***КОРОБКА (СТЕКЛО)                       D        4   \n",
       "\n",
       "   item_category_id  \n",
       "0                40  \n",
       "1                76  \n",
       "2                40  \n",
       "3                40  \n",
       "4                40  "
      ]
     },
     "execution_count": 12,
     "metadata": {},
     "output_type": "execute_result"
    }
   ],
   "source": [
    "items.head()"
   ]
  },
  {
   "cell_type": "code",
   "execution_count": 13,
   "metadata": {
    "colab": {
     "base_uri": "https://localhost:8080/",
     "height": 68
    },
    "colab_type": "code",
    "executionInfo": {
     "elapsed": 1938,
     "status": "ok",
     "timestamp": 1587518816151,
     "user": {
      "displayName": "Tsuyoru or Hedwig",
      "photoUrl": "https://lh3.googleusercontent.com/a-/AOh14Gh7yyKv8Og1Bb0RtvY248fLUYI68SxgHKo8aKRf=s64",
      "userId": "06866217931821730788"
     },
     "user_tz": 180
    },
    "id": "uKvy4jxhgJ9M",
    "outputId": "6b09de7a-b42b-47f0-c939-7bd629c903aa"
   },
   "outputs": [
    {
     "name": "stdout",
     "output_type": "stream",
     "text": [
      "<class 'pandas.core.frame.DataFrame'>\n",
      "RangeIndex: 84 entries, 0 to 83\n",
      "Data columns (total 2 columns):\n",
      "item_category_name    84 non-null object\n",
      "item_category_id      84 non-null int64\n",
      "dtypes: int64(1), object(1)\n",
      "memory usage: 1.4+ KB\n"
     ]
    }
   ],
   "source": [
    "item_categories.info()"
   ]
  },
  {
   "cell_type": "code",
   "execution_count": 14,
   "metadata": {
    "colab": {
     "base_uri": "https://localhost:8080/",
     "height": 136
    },
    "colab_type": "code",
    "executionInfo": {
     "elapsed": 1911,
     "status": "ok",
     "timestamp": 1587518816152,
     "user": {
      "displayName": "Tsuyoru or Hedwig",
      "photoUrl": "https://lh3.googleusercontent.com/a-/AOh14Gh7yyKv8Og1Bb0RtvY248fLUYI68SxgHKo8aKRf=s64",
      "userId": "06866217931821730788"
     },
     "user_tz": 180
    },
    "id": "-byaAmg2gJ9R",
    "outputId": "4236a721-e6e5-4c0a-899c-1d9a4fc31273"
   },
   "outputs": [
    {
     "name": "stdout",
     "output_type": "stream",
     "text": [
      "---------------------------------\n",
      "        Rows: 214200\n",
      "        Columns: 2\n",
      "        NaN Values: 0\n",
      "        Missing Values: 0\n",
      "        Duplicated Rows: 0\n",
      "---------------------------------\n"
     ]
    }
   ],
   "source": [
    "utils.print_df_info(test)"
   ]
  },
  {
   "cell_type": "code",
   "execution_count": 15,
   "metadata": {
    "colab": {
     "base_uri": "https://localhost:8080/",
     "height": 136
    },
    "colab_type": "code",
    "executionInfo": {
     "elapsed": 5973,
     "status": "ok",
     "timestamp": 1587518820243,
     "user": {
      "displayName": "Tsuyoru or Hedwig",
      "photoUrl": "https://lh3.googleusercontent.com/a-/AOh14Gh7yyKv8Og1Bb0RtvY248fLUYI68SxgHKo8aKRf=s64",
      "userId": "06866217931821730788"
     },
     "user_tz": 180
    },
    "id": "2BgZ3eXggJ9U",
    "outputId": "1d4c49a4-91d2-49f1-e502-1fd0156fc2eb"
   },
   "outputs": [
    {
     "name": "stdout",
     "output_type": "stream",
     "text": [
      "<class 'pandas.core.frame.DataFrame'>\n",
      "RangeIndex: 60 entries, 0 to 59\n",
      "Data columns (total 2 columns):\n",
      "shop_name    60 non-null object\n",
      "shop_id      60 non-null int64\n",
      "dtypes: int64(1), object(1)\n",
      "memory usage: 1.1+ KB\n"
     ]
    }
   ],
   "source": [
    "shops.info()"
   ]
  },
  {
   "cell_type": "markdown",
   "metadata": {
    "colab_type": "text",
    "id": "fEJBms9igJ9a"
   },
   "source": [
    "#### Extracting Features from Item Names"
   ]
  },
  {
   "cell_type": "markdown",
   "metadata": {
    "colab_type": "text",
    "id": "Z-HEcKOvgJ9b"
   },
   "source": [
    "Since we are dealing with several Russian words we need some ideia of what is those words and split them into more categorical features."
   ]
  },
  {
   "cell_type": "code",
   "execution_count": 16,
   "metadata": {
    "colab": {
     "base_uri": "https://localhost:8080/",
     "height": 411
    },
    "colab_type": "code",
    "executionInfo": {
     "elapsed": 20851,
     "status": "ok",
     "timestamp": 1587518836914,
     "user": {
      "displayName": "Tsuyoru or Hedwig",
      "photoUrl": "https://lh3.googleusercontent.com/a-/AOh14Gh7yyKv8Og1Bb0RtvY248fLUYI68SxgHKo8aKRf=s64",
      "userId": "06866217931821730788"
     },
     "user_tz": 180
    },
    "id": "jMvViSOsgJ9c",
    "outputId": "43804537-8c0a-40b6-fee5-e5c8f492ddba"
   },
   "outputs": [],
   "source": [
    "shops.loc[shops.shop_name == 'Сергиев Посад ТЦ \"7Я\"', 'shop_name'] = 'СергиевПосад ТЦ \"7Я\"'\n",
    "shops['city'] = shops['shop_name'].str.split(' ').map(lambda x: x[0])\n",
    "shops.loc[shops.city == '!Якутск', 'city'] = 'Якутск'\n",
    "shops['city_code'] = LabelEncoder().fit_transform(shops['city'])\n",
    "shops = shops[['shop_id','city_code']]\n",
    "\n",
    "item_categories['split'] = item_categories['item_category_name'].str.split('-')\n",
    "item_categories['type'] = item_categories['split'].map(lambda x: x[0].strip())\n",
    "item_categories['type_code'] = LabelEncoder().fit_transform(item_categories['type'])\n",
    "item_categories['subtype'] = item_categories['split'].map(lambda x: x[1].strip() if len(x) > 1 else x[0].strip())\n",
    "item_categories['subtype_code'] = LabelEncoder().fit_transform(item_categories['subtype'])\n",
    "item_categories = item_categories[['item_category_id','type_code', 'subtype_code']]\n",
    "\n",
    "items = items.drop(['item_name'], axis=1)"
   ]
  },
  {
   "cell_type": "markdown",
   "metadata": {
    "colab_type": "text",
    "id": "6b65k_NigJ9f"
   },
   "source": [
    "Yeah, now we have a more precise information about item_name, let's try to process some text with TF-IDF, i saw some tutorials for this, so it may have some better ways to manipulate."
   ]
  },
  {
   "cell_type": "markdown",
   "metadata": {
    "colab_type": "text",
    "id": "X5dVol5vgJ9f"
   },
   "source": [
    "### TF-IDF Preprocessing"
   ]
  },
  {
   "cell_type": "markdown",
   "metadata": {
    "colab_type": "text",
    "id": "8_F51-z-gJ9g"
   },
   "source": [
    "Here i'm using utils.py that i created just to use some generalized functions, so the tfidf_preprocess will return us the len of each string of the column and a word count, which we will use as features to create our model in some next steps."
   ]
  },
  {
   "cell_type": "code",
   "execution_count": 17,
   "metadata": {
    "colab": {
     "base_uri": "https://localhost:8080/",
     "height": 102
    },
    "colab_type": "code",
    "executionInfo": {
     "elapsed": 102276,
     "status": "ok",
     "timestamp": 1587518920970,
     "user": {
      "displayName": "Tsuyoru or Hedwig",
      "photoUrl": "https://lh3.googleusercontent.com/a-/AOh14Gh7yyKv8Og1Bb0RtvY248fLUYI68SxgHKo8aKRf=s64",
      "userId": "06866217931821730788"
     },
     "user_tz": 180
    },
    "id": "O4830vdWgJ9g",
    "outputId": "5a81447e-ef3c-4c58-f8ba-1c6c322f8c03"
   },
   "outputs": [
    {
     "name": "stdout",
     "output_type": "stream",
     "text": [
      "Mem. usage decreased to  1.35 Mb (73.3% reduction)\n",
      "Mem. usage decreased to  0.00 Mb (73.0% reduction)\n",
      "CPU times: user 616 ms, sys: 142 ms, total: 758 ms\n",
      "Wall time: 777 ms\n"
     ]
    }
   ],
   "source": [
    "%%time\n",
    "items_aux = pd.read_csv('items.csv')\n",
    "item_categories_aux = pd.read_csv('item_categories.csv')\n",
    "shops_aux = pd.read_csv('shops.csv')\n",
    "items_aux = utils.tfidf_preprocess(items_aux, 'item_name', n_features = 25)\n",
    "shops_aux = utils.tfidf_preprocess(shops_aux, 'shop_name', n_features = 25)"
   ]
  },
  {
   "cell_type": "markdown",
   "metadata": {
    "colab_type": "text",
    "id": "xwS46sOLgJ9u"
   },
   "source": [
    "### Merging Train set and Test set for Feature Extraction"
   ]
  },
  {
   "cell_type": "markdown",
   "metadata": {
    "colab_type": "text",
    "id": "FycJoMzq6XX6"
   },
   "source": [
    "The main idea here is to calculate monthly sales and extend it with zero sales for each unique pair within the month. This way train data will be similar to test data"
   ]
  },
  {
   "cell_type": "code",
   "execution_count": 18,
   "metadata": {
    "colab": {
     "base_uri": "https://localhost:8080/",
     "height": 34
    },
    "colab_type": "code",
    "executionInfo": {
     "elapsed": 98533,
     "status": "ok",
     "timestamp": 1587518920972,
     "user": {
      "displayName": "Tsuyoru or Hedwig",
      "photoUrl": "https://lh3.googleusercontent.com/a-/AOh14Gh7yyKv8Og1Bb0RtvY248fLUYI68SxgHKo8aKRf=s64",
      "userId": "06866217931821730788"
     },
     "user_tz": 180
    },
    "id": "0-R1UBsC6yrJ",
    "outputId": "9e9a0fbb-5266-4b10-911a-36ab7c65bf72"
   },
   "outputs": [
    {
     "data": {
      "text/plain": [
       "(363, 5100, 214200)"
      ]
     },
     "execution_count": 18,
     "metadata": {},
     "output_type": "execute_result"
    }
   ],
   "source": [
    "len(list(set(test.item_id) - set(test.item_id).intersection(set(train.item_id)))), len(list(set(test.item_id))), len(test)"
   ]
  },
  {
   "cell_type": "code",
   "execution_count": 19,
   "metadata": {
    "colab": {
     "base_uri": "https://localhost:8080/",
     "height": 204
    },
    "colab_type": "code",
    "executionInfo": {
     "elapsed": 111876,
     "status": "ok",
     "timestamp": 1587518935037,
     "user": {
      "displayName": "Tsuyoru or Hedwig",
      "photoUrl": "https://lh3.googleusercontent.com/a-/AOh14Gh7yyKv8Og1Bb0RtvY248fLUYI68SxgHKo8aKRf=s64",
      "userId": "06866217931821730788"
     },
     "user_tz": 180
    },
    "id": "XTBJELJK8iJK",
    "outputId": "e005d3aa-8475-453f-e45c-90d7430232b5"
   },
   "outputs": [
    {
     "data": {
      "text/html": [
       "<div>\n",
       "<style scoped>\n",
       "    .dataframe tbody tr th:only-of-type {\n",
       "        vertical-align: middle;\n",
       "    }\n",
       "\n",
       "    .dataframe tbody tr th {\n",
       "        vertical-align: top;\n",
       "    }\n",
       "\n",
       "    .dataframe thead th {\n",
       "        text-align: right;\n",
       "    }\n",
       "</style>\n",
       "<table border=\"1\" class=\"dataframe\">\n",
       "  <thead>\n",
       "    <tr style=\"text-align: right;\">\n",
       "      <th></th>\n",
       "      <th>date_block_num</th>\n",
       "      <th>shop_id</th>\n",
       "      <th>item_id</th>\n",
       "    </tr>\n",
       "  </thead>\n",
       "  <tbody>\n",
       "    <tr>\n",
       "      <td>139255</td>\n",
       "      <td>0</td>\n",
       "      <td>0</td>\n",
       "      <td>19</td>\n",
       "    </tr>\n",
       "    <tr>\n",
       "      <td>141495</td>\n",
       "      <td>0</td>\n",
       "      <td>0</td>\n",
       "      <td>27</td>\n",
       "    </tr>\n",
       "    <tr>\n",
       "      <td>144968</td>\n",
       "      <td>0</td>\n",
       "      <td>0</td>\n",
       "      <td>28</td>\n",
       "    </tr>\n",
       "    <tr>\n",
       "      <td>142661</td>\n",
       "      <td>0</td>\n",
       "      <td>0</td>\n",
       "      <td>29</td>\n",
       "    </tr>\n",
       "    <tr>\n",
       "      <td>138947</td>\n",
       "      <td>0</td>\n",
       "      <td>0</td>\n",
       "      <td>32</td>\n",
       "    </tr>\n",
       "  </tbody>\n",
       "</table>\n",
       "</div>"
      ],
      "text/plain": [
       "        date_block_num  shop_id  item_id\n",
       "139255               0        0       19\n",
       "141495               0        0       27\n",
       "144968               0        0       28\n",
       "142661               0        0       29\n",
       "138947               0        0       32"
      ]
     },
     "execution_count": 19,
     "metadata": {},
     "output_type": "execute_result"
    }
   ],
   "source": [
    "train_aux = []\n",
    "cols = ['date_block_num','shop_id','item_id']\n",
    "for block_num in range(34):\n",
    "    temp = train[train.date_block_num==block_num]\n",
    "    train_aux.append(np.array(list(product([block_num], temp['shop_id'].unique(), temp['item_id'].unique()))))\n",
    "    \n",
    "train_aux = pd.DataFrame(np.vstack(train_aux), columns=cols)\n",
    "train_aux['date_block_num'] = train_aux['date_block_num'].astype(np.int8)\n",
    "train_aux['shop_id'] = train_aux['shop_id'].astype(np.int8)\n",
    "train_aux['item_id'] = train_aux['item_id'].astype(np.int16)\n",
    "train_aux = train_aux.sort_values(cols)\n",
    "train_aux.head()"
   ]
  },
  {
   "cell_type": "code",
   "execution_count": 20,
   "metadata": {
    "colab": {
     "base_uri": "https://localhost:8080/",
     "height": 204
    },
    "colab_type": "code",
    "executionInfo": {
     "elapsed": 6797,
     "status": "ok",
     "timestamp": 1587518941858,
     "user": {
      "displayName": "Tsuyoru or Hedwig",
      "photoUrl": "https://lh3.googleusercontent.com/a-/AOh14Gh7yyKv8Og1Bb0RtvY248fLUYI68SxgHKo8aKRf=s64",
      "userId": "06866217931821730788"
     },
     "user_tz": 180
    },
    "id": "L3R8bZ8cgJ9v",
    "outputId": "8853aff9-8913-43a1-e610-b8912fd8e6f3"
   },
   "outputs": [
    {
     "data": {
      "text/html": [
       "<div>\n",
       "<style scoped>\n",
       "    .dataframe tbody tr th:only-of-type {\n",
       "        vertical-align: middle;\n",
       "    }\n",
       "\n",
       "    .dataframe tbody tr th {\n",
       "        vertical-align: top;\n",
       "    }\n",
       "\n",
       "    .dataframe thead th {\n",
       "        text-align: right;\n",
       "    }\n",
       "</style>\n",
       "<table border=\"1\" class=\"dataframe\">\n",
       "  <thead>\n",
       "    <tr style=\"text-align: right;\">\n",
       "      <th></th>\n",
       "      <th>date_block_num</th>\n",
       "      <th>shop_id</th>\n",
       "      <th>item_id</th>\n",
       "      <th>item_cnt_month</th>\n",
       "    </tr>\n",
       "  </thead>\n",
       "  <tbody>\n",
       "    <tr>\n",
       "      <td>0</td>\n",
       "      <td>0</td>\n",
       "      <td>0</td>\n",
       "      <td>19</td>\n",
       "      <td>0.0</td>\n",
       "    </tr>\n",
       "    <tr>\n",
       "      <td>1</td>\n",
       "      <td>0</td>\n",
       "      <td>0</td>\n",
       "      <td>27</td>\n",
       "      <td>0.0</td>\n",
       "    </tr>\n",
       "    <tr>\n",
       "      <td>2</td>\n",
       "      <td>0</td>\n",
       "      <td>0</td>\n",
       "      <td>28</td>\n",
       "      <td>0.0</td>\n",
       "    </tr>\n",
       "    <tr>\n",
       "      <td>3</td>\n",
       "      <td>0</td>\n",
       "      <td>0</td>\n",
       "      <td>29</td>\n",
       "      <td>0.0</td>\n",
       "    </tr>\n",
       "    <tr>\n",
       "      <td>4</td>\n",
       "      <td>0</td>\n",
       "      <td>0</td>\n",
       "      <td>32</td>\n",
       "      <td>6.0</td>\n",
       "    </tr>\n",
       "  </tbody>\n",
       "</table>\n",
       "</div>"
      ],
      "text/plain": [
       "   date_block_num  shop_id  item_id  item_cnt_month\n",
       "0               0        0       19             0.0\n",
       "1               0        0       27             0.0\n",
       "2               0        0       28             0.0\n",
       "3               0        0       29             0.0\n",
       "4               0        0       32             6.0"
      ]
     },
     "execution_count": 20,
     "metadata": {},
     "output_type": "execute_result"
    }
   ],
   "source": [
    "# Merge item count month\n",
    "item_cnt_month = train.groupby(['date_block_num', 'shop_id', 'item_id']).agg({'item_cnt_day':'sum'})\n",
    "item_cnt_month.columns = ['item_cnt_month']\n",
    "train_aux = pd.merge(train_aux, item_cnt_month, on=cols, how='left')\n",
    "train_aux['item_cnt_month'] = (train_aux['item_cnt_month']\n",
    "                                .fillna(0)\n",
    "                                .clip(0,20))\n",
    "train_aux.head()"
   ]
  },
  {
   "cell_type": "code",
   "execution_count": 6,
   "metadata": {
    "colab": {},
    "colab_type": "code",
    "id": "-shAETRjgJ9y"
   },
   "outputs": [],
   "source": [
    "# Merge test into matrix\n",
    "test['date_block_num'] = 34\n",
    "test['date_block_num'] = test['date_block_num'].astype(np.int8)\n",
    "test['shop_id'] = test['shop_id'].astype(np.int8)\n",
    "test['item_id'] = test['item_id'].astype(np.int16)\n",
    "\n",
    "train_aux_2 = pd.concat([train_aux, test], ignore_index=True, sort=False, keys=cols)\n",
    "train_aux_2.fillna(0, inplace=True)"
   ]
  },
  {
   "cell_type": "code",
   "execution_count": 22,
   "metadata": {
    "colab": {
     "base_uri": "https://localhost:8080/",
     "height": 34
    },
    "colab_type": "code",
    "executionInfo": {
     "elapsed": 7150,
     "status": "ok",
     "timestamp": 1587518942277,
     "user": {
      "displayName": "Tsuyoru or Hedwig",
      "photoUrl": "https://lh3.googleusercontent.com/a-/AOh14Gh7yyKv8Og1Bb0RtvY248fLUYI68SxgHKo8aKRf=s64",
      "userId": "06866217931821730788"
     },
     "user_tz": 180
    },
    "id": "6Sb46JdGgJ90",
    "outputId": "8e25fe2d-4f4f-4fcc-edda-de73a7d0cc05"
   },
   "outputs": [
    {
     "name": "stdout",
     "output_type": "stream",
     "text": [
      "Mem. usage decreased to 63.68 Mb (50.0% reduction)\n"
     ]
    }
   ],
   "source": [
    "train_aux_2 = utils.downcast_dtypes(train_aux_2)"
   ]
  },
  {
   "cell_type": "code",
   "execution_count": 23,
   "metadata": {
    "colab": {
     "base_uri": "https://localhost:8080/",
     "height": 204
    },
    "colab_type": "code",
    "executionInfo": {
     "elapsed": 7113,
     "status": "ok",
     "timestamp": 1587518942278,
     "user": {
      "displayName": "Tsuyoru or Hedwig",
      "photoUrl": "https://lh3.googleusercontent.com/a-/AOh14Gh7yyKv8Og1Bb0RtvY248fLUYI68SxgHKo8aKRf=s64",
      "userId": "06866217931821730788"
     },
     "user_tz": 180
    },
    "id": "Mf8ZweIhCpXD",
    "outputId": "4f3cb5bf-40fd-479b-d0a1-7a1f43da7ac1"
   },
   "outputs": [
    {
     "name": "stdout",
     "output_type": "stream",
     "text": [
      "<class 'pandas.core.frame.DataFrame'>\n",
      "RangeIndex: 11128050 entries, 0 to 11128049\n",
      "Data columns (total 4 columns):\n",
      "date_block_num    int8\n",
      "shop_id           int8\n",
      "item_id           int16\n",
      "item_cnt_month    float16\n",
      "dtypes: float16(1), int16(1), int8(2)\n",
      "memory usage: 63.7 MB\n"
     ]
    }
   ],
   "source": [
    "train_aux_2.info()"
   ]
  },
  {
   "cell_type": "code",
   "execution_count": 24,
   "metadata": {
    "colab": {},
    "colab_type": "code",
    "id": "crlNz7IfEj6o"
   },
   "outputs": [],
   "source": [
    "gc.collect();"
   ]
  },
  {
   "cell_type": "code",
   "execution_count": 25,
   "metadata": {
    "colab": {
     "base_uri": "https://localhost:8080/",
     "height": 34
    },
    "colab_type": "code",
    "executionInfo": {
     "elapsed": 91810,
     "status": "ok",
     "timestamp": 1587519027057,
     "user": {
      "displayName": "Tsuyoru or Hedwig",
      "photoUrl": "https://lh3.googleusercontent.com/a-/AOh14Gh7yyKv8Og1Bb0RtvY248fLUYI68SxgHKo8aKRf=s64",
      "userId": "06866217931821730788"
     },
     "user_tz": 180
    },
    "id": "nIMj3dLE_aC7",
    "outputId": "9f0abf92-1dd3-4ce6-eb12-a9edd0b0a743"
   },
   "outputs": [
    {
     "name": "stdout",
     "output_type": "stream",
     "text": [
      "Mem. usage decreased to 191.03 Mb (60.9% reduction)\n"
     ]
    }
   ],
   "source": [
    "full_train = pd.merge(train_aux_2, shops, on = ['shop_id'], how = 'left')\n",
    "full_train = pd.merge(full_train, items, on = ['item_id'], how = 'left')\n",
    "full_train = pd.merge(full_train, item_categories, on = ['item_category_id'], how = 'left')\n",
    "full_train = utils.downcast_dtypes(full_train)"
   ]
  },
  {
   "cell_type": "code",
   "execution_count": 26,
   "metadata": {
    "colab": {},
    "colab_type": "code",
    "id": "gGmthQ8Fe82K"
   },
   "outputs": [],
   "source": [
    "del train_aux_2\n",
    "del train_aux\n",
    "del train\n",
    "del items\n",
    "del item_categories\n",
    "del item_cnt_month"
   ]
  },
  {
   "cell_type": "markdown",
   "metadata": {
    "colab_type": "text",
    "id": "oJ3x6Wo0gJ98"
   },
   "source": [
    "### Creating Lag Features\n",
    "Now let's create some lag features, for those who don't know what are lag features i'm gonna leave an example below:<br>\n",
    "- e.g. We have a value at time t, so the past values are known as lags, so t-1 is lag 1, t-2 is lag 2, etc."
   ]
  },
  {
   "cell_type": "code",
   "execution_count": 27,
   "metadata": {
    "colab": {},
    "colab_type": "code",
    "id": "c0Uz5UGmfxjk"
   },
   "outputs": [],
   "source": [
    "gc.collect();"
   ]
  },
  {
   "cell_type": "code",
   "execution_count": 28,
   "metadata": {
    "colab": {
     "base_uri": "https://localhost:8080/",
     "height": 100,
     "referenced_widgets": [
      "3d261684583e4b41af8cacc8e76278d7",
      "3b02bc9cfb294c58bc188cf2fffcd14f",
      "3b68095954364a599042a63829a5f700",
      "c89beedd7b11482383061a9b47b667ac",
      "0ea0014da47b4228b783bddd9ecb1c12",
      "bc500a8582f943efb1f0e0b2a14b4a68",
      "f93c55c9760b42bd999b4b82caa961d2",
      "5de0f69929424668bed627e847ef7fe4"
     ]
    },
    "colab_type": "code",
    "id": "xGlITOaagJ-A",
    "outputId": "e003dd02-9f58-4848-8dba-663321923c46"
   },
   "outputs": [
    {
     "data": {
      "application/vnd.jupyter.widget-view+json": {
       "model_id": "f0b134342f864860a4e6c9923a6bd89c",
       "version_major": 2,
       "version_minor": 0
      },
      "text/plain": [
       "HBox(children=(IntProgress(value=0, max=5), HTML(value='')))"
      ]
     },
     "metadata": {},
     "output_type": "display_data"
    },
    {
     "name": "stdout",
     "output_type": "stream",
     "text": [
      "Lag: 1 for item_cnt_month\n",
      "Lag: 2 for item_cnt_month\n",
      "Lag: 3 for item_cnt_month\n",
      "Lag: 6 for item_cnt_month\n",
      "Lag: 12 for item_cnt_month\n",
      "\n",
      "Mem. usage decreased to 297.15 Mb (0.0% reduction)\n"
     ]
    }
   ],
   "source": [
    "gc.collect();\n",
    "full_train = utils.lag_feature(full_train, [1,2,3,6,12], 'item_cnt_month')\n",
    "full_train = utils.downcast_dtypes(full_train)\n",
    "gc.collect();"
   ]
  },
  {
   "cell_type": "code",
   "execution_count": 29,
   "metadata": {
    "colab": {},
    "colab_type": "code",
    "id": "cf-WMFldgJ-J"
   },
   "outputs": [
    {
     "name": "stdout",
     "output_type": "stream",
     "text": [
      "1.\n"
     ]
    },
    {
     "data": {
      "application/vnd.jupyter.widget-view+json": {
       "model_id": "bded561fa7db4726ae72c6da3b25d818",
       "version_major": 2,
       "version_minor": 0
      },
      "text/plain": [
       "HBox(children=(IntProgress(value=0, max=1), HTML(value='')))"
      ]
     },
     "metadata": {},
     "output_type": "display_data"
    },
    {
     "name": "stdout",
     "output_type": "stream",
     "text": [
      "Lag: 1 for date_avg_item_cnt\n",
      "\n",
      "Mem. usage decreased to 318.38 Mb (0.0% reduction)\n",
      "2.\n"
     ]
    },
    {
     "data": {
      "application/vnd.jupyter.widget-view+json": {
       "model_id": "be85ebe4c7154be1a8faaf6d392f7a19",
       "version_major": 2,
       "version_minor": 0
      },
      "text/plain": [
       "HBox(children=(IntProgress(value=0, max=5), HTML(value='')))"
      ]
     },
     "metadata": {},
     "output_type": "display_data"
    },
    {
     "name": "stdout",
     "output_type": "stream",
     "text": [
      "Lag: 1 for date_item_avg_item_cnt\n",
      "Lag: 2 for date_item_avg_item_cnt\n",
      "Lag: 3 for date_item_avg_item_cnt\n",
      "Lag: 6 for date_item_avg_item_cnt\n",
      "Lag: 12 for date_item_avg_item_cnt\n",
      "\n",
      "Mem. usage decreased to 424.50 Mb (0.0% reduction)\n",
      "3.\n"
     ]
    },
    {
     "data": {
      "application/vnd.jupyter.widget-view+json": {
       "model_id": "a21feda5cca5431e9b34bc8bf589d0b5",
       "version_major": 2,
       "version_minor": 0
      },
      "text/plain": [
       "HBox(children=(IntProgress(value=0, max=5), HTML(value='')))"
      ]
     },
     "metadata": {},
     "output_type": "display_data"
    },
    {
     "name": "stdout",
     "output_type": "stream",
     "text": [
      "Lag: 1 for date_shop_avg_item_cnt\n",
      "Lag: 2 for date_shop_avg_item_cnt\n",
      "Lag: 3 for date_shop_avg_item_cnt\n",
      "Lag: 6 for date_shop_avg_item_cnt\n",
      "Lag: 12 for date_shop_avg_item_cnt\n",
      "\n",
      "Mem. usage decreased to 530.63 Mb (0.0% reduction)\n",
      "4.\n"
     ]
    },
    {
     "data": {
      "application/vnd.jupyter.widget-view+json": {
       "model_id": "5c4a0ba559654cc5bfe8c229f660f129",
       "version_major": 2,
       "version_minor": 0
      },
      "text/plain": [
       "HBox(children=(IntProgress(value=0, max=1), HTML(value='')))"
      ]
     },
     "metadata": {},
     "output_type": "display_data"
    },
    {
     "name": "stdout",
     "output_type": "stream",
     "text": [
      "Lag: 1 for date_category_avg_item_cnt\n",
      "\n",
      "Mem. usage decreased to 551.85 Mb (0.0% reduction)\n",
      "5.\n"
     ]
    },
    {
     "data": {
      "application/vnd.jupyter.widget-view+json": {
       "model_id": "739d595d459b42b89750da82f6c940a2",
       "version_major": 2,
       "version_minor": 0
      },
      "text/plain": [
       "HBox(children=(IntProgress(value=0, max=1), HTML(value='')))"
      ]
     },
     "metadata": {},
     "output_type": "display_data"
    },
    {
     "name": "stdout",
     "output_type": "stream",
     "text": [
      "Lag: 1 for date_shop_category_avg_item_cnt\n",
      "\n",
      "Mem. usage decreased to 573.08 Mb (0.0% reduction)\n",
      "6.\n"
     ]
    },
    {
     "data": {
      "application/vnd.jupyter.widget-view+json": {
       "model_id": "873b36c4b36d4ca6a5a60b0570ed65fa",
       "version_major": 2,
       "version_minor": 0
      },
      "text/plain": [
       "HBox(children=(IntProgress(value=0, max=1), HTML(value='')))"
      ]
     },
     "metadata": {},
     "output_type": "display_data"
    },
    {
     "name": "stdout",
     "output_type": "stream",
     "text": [
      "Lag: 1 for date_shop_type_avg_item_cnt\n",
      "\n",
      "Mem. usage decreased to 594.30 Mb (0.0% reduction)\n",
      "7.\n"
     ]
    },
    {
     "data": {
      "application/vnd.jupyter.widget-view+json": {
       "model_id": "63f18afb27674957a999d723c8099dc4",
       "version_major": 2,
       "version_minor": 0
      },
      "text/plain": [
       "HBox(children=(IntProgress(value=0, max=1), HTML(value='')))"
      ]
     },
     "metadata": {},
     "output_type": "display_data"
    },
    {
     "name": "stdout",
     "output_type": "stream",
     "text": [
      "Lag: 1 for date_type_avg_item_cnt\n",
      "\n",
      "Mem. usage decreased to 615.53 Mb (0.0% reduction)\n",
      "8.\n"
     ]
    },
    {
     "data": {
      "application/vnd.jupyter.widget-view+json": {
       "model_id": "cb3a795c1ebb4816b13fc07bb91133a2",
       "version_major": 2,
       "version_minor": 0
      },
      "text/plain": [
       "HBox(children=(IntProgress(value=0, max=1), HTML(value='')))"
      ]
     },
     "metadata": {},
     "output_type": "display_data"
    },
    {
     "name": "stdout",
     "output_type": "stream",
     "text": [
      "Lag: 1 for date_city_avg_item_cnt\n",
      "\n",
      "Mem. usage decreased to 636.75 Mb (0.0% reduction)\n",
      "9.\n"
     ]
    },
    {
     "data": {
      "application/vnd.jupyter.widget-view+json": {
       "model_id": "00883b446b8b4896ab3110a4258947c7",
       "version_major": 2,
       "version_minor": 0
      },
      "text/plain": [
       "HBox(children=(IntProgress(value=0, max=1), HTML(value='')))"
      ]
     },
     "metadata": {},
     "output_type": "display_data"
    },
    {
     "name": "stdout",
     "output_type": "stream",
     "text": [
      "Lag: 1 for date_shop_subtype_avg_item_cnt\n",
      "\n",
      "Mem. usage decreased to 657.98 Mb (0.0% reduction)\n",
      "10.\n"
     ]
    },
    {
     "data": {
      "application/vnd.jupyter.widget-view+json": {
       "model_id": "849e9cc0f0f24ac182ccb36f08863b37",
       "version_major": 2,
       "version_minor": 0
      },
      "text/plain": [
       "HBox(children=(IntProgress(value=0, max=1), HTML(value='')))"
      ]
     },
     "metadata": {},
     "output_type": "display_data"
    },
    {
     "name": "stdout",
     "output_type": "stream",
     "text": [
      "Lag: 1 for date_item_city_avg_item_cnt\n",
      "\n",
      "Mem. usage decreased to 679.20 Mb (0.0% reduction)\n",
      "11.\n"
     ]
    },
    {
     "data": {
      "application/vnd.jupyter.widget-view+json": {
       "model_id": "5154a6d801db484dbb94b4ea0cfcf95b",
       "version_major": 2,
       "version_minor": 0
      },
      "text/plain": [
       "HBox(children=(IntProgress(value=0, max=1), HTML(value='')))"
      ]
     },
     "metadata": {},
     "output_type": "display_data"
    },
    {
     "name": "stdout",
     "output_type": "stream",
     "text": [
      "Lag: 1 for date_subtype_avg_item_cnt\n",
      "\n",
      "Mem. usage decreased to 700.43 Mb (0.0% reduction)\n"
     ]
    }
   ],
   "source": [
    "# Note: I'm using a print for know where column it's actually lagging so i can be able to re-do if needed\n",
    "df_after_lag = utils.create_lagged_features(full_train)"
   ]
  },
  {
   "cell_type": "code",
   "execution_count": 30,
   "metadata": {
    "colab": {
     "base_uri": "https://localhost:8080/",
     "height": 164
    },
    "colab_type": "code",
    "executionInfo": {
     "elapsed": 825,
     "status": "error",
     "timestamp": 1587326951991,
     "user": {
      "displayName": "Tsuyoru or Hedwig",
      "photoUrl": "https://lh3.googleusercontent.com/a-/AOh14Gh7yyKv8Og1Bb0RtvY248fLUYI68SxgHKo8aKRf=s64",
      "userId": "06866217931821730788"
     },
     "user_tz": 180
    },
    "id": "OKhZuKp2gJ-N",
    "outputId": "c76f7921-600f-4190-cd87-4c4eafe39c5b"
   },
   "outputs": [],
   "source": [
    "df_after_lag = df_after_lag[df_after_lag['date_block_num'] > 11]\n",
    "\n",
    "# Filling NaN's for Lag columns which contain our item_cnt_month\n",
    "for col in df_after_lag.columns:\n",
    "    if ('_lag_' in col) & (df_after_lag[col].isnull().any()):\n",
    "        if ('item_cnt' in col):\n",
    "            df_after_lag[col] = df_after_lag[col].fillna(0)\n",
    "\n",
    "df = pd.merge(df_after_lag, items_aux, on = ['item_id'], how = 'left')\n",
    "df = pd.merge(df, shops_aux, on = ['shop_id'], how = 'left')"
   ]
  },
  {
   "cell_type": "code",
   "execution_count": 31,
   "metadata": {
    "colab": {},
    "colab_type": "code",
    "id": "K6zlyiTn6bE6"
   },
   "outputs": [
    {
     "data": {
      "text/html": [
       "<div>\n",
       "<style scoped>\n",
       "    .dataframe tbody tr th:only-of-type {\n",
       "        vertical-align: middle;\n",
       "    }\n",
       "\n",
       "    .dataframe tbody tr th {\n",
       "        vertical-align: top;\n",
       "    }\n",
       "\n",
       "    .dataframe thead th {\n",
       "        text-align: right;\n",
       "    }\n",
       "</style>\n",
       "<table border=\"1\" class=\"dataframe\">\n",
       "  <thead>\n",
       "    <tr style=\"text-align: right;\">\n",
       "      <th></th>\n",
       "      <th>date_block_num</th>\n",
       "      <th>shop_id</th>\n",
       "      <th>item_id</th>\n",
       "      <th>item_cnt_month</th>\n",
       "      <th>city_code</th>\n",
       "      <th>item_category_id_x</th>\n",
       "      <th>type_code</th>\n",
       "      <th>subtype_code</th>\n",
       "      <th>item_cnt_month_lag_1</th>\n",
       "      <th>item_cnt_month_lag_2</th>\n",
       "      <th>...</th>\n",
       "      <th>shop_name_tfidf_15</th>\n",
       "      <th>shop_name_tfidf_16</th>\n",
       "      <th>shop_name_tfidf_17</th>\n",
       "      <th>shop_name_tfidf_18</th>\n",
       "      <th>shop_name_tfidf_19</th>\n",
       "      <th>shop_name_tfidf_20</th>\n",
       "      <th>shop_name_tfidf_21</th>\n",
       "      <th>shop_name_tfidf_22</th>\n",
       "      <th>shop_name_tfidf_23</th>\n",
       "      <th>shop_name_tfidf_24</th>\n",
       "    </tr>\n",
       "  </thead>\n",
       "  <tbody>\n",
       "    <tr>\n",
       "      <td>0</td>\n",
       "      <td>12</td>\n",
       "      <td>2</td>\n",
       "      <td>27</td>\n",
       "      <td>0.0</td>\n",
       "      <td>0</td>\n",
       "      <td>19</td>\n",
       "      <td>5</td>\n",
       "      <td>10</td>\n",
       "      <td>0.0</td>\n",
       "      <td>0.0</td>\n",
       "      <td>...</td>\n",
       "      <td>0.0</td>\n",
       "      <td>0.0</td>\n",
       "      <td>0.0</td>\n",
       "      <td>0.0</td>\n",
       "      <td>0.0</td>\n",
       "      <td>0.0</td>\n",
       "      <td>0.498535</td>\n",
       "      <td>0.0</td>\n",
       "      <td>0.0</td>\n",
       "      <td>0.0</td>\n",
       "    </tr>\n",
       "    <tr>\n",
       "      <td>1</td>\n",
       "      <td>12</td>\n",
       "      <td>2</td>\n",
       "      <td>30</td>\n",
       "      <td>0.0</td>\n",
       "      <td>0</td>\n",
       "      <td>40</td>\n",
       "      <td>11</td>\n",
       "      <td>4</td>\n",
       "      <td>0.0</td>\n",
       "      <td>0.0</td>\n",
       "      <td>...</td>\n",
       "      <td>0.0</td>\n",
       "      <td>0.0</td>\n",
       "      <td>0.0</td>\n",
       "      <td>0.0</td>\n",
       "      <td>0.0</td>\n",
       "      <td>0.0</td>\n",
       "      <td>0.498535</td>\n",
       "      <td>0.0</td>\n",
       "      <td>0.0</td>\n",
       "      <td>0.0</td>\n",
       "    </tr>\n",
       "    <tr>\n",
       "      <td>2</td>\n",
       "      <td>12</td>\n",
       "      <td>2</td>\n",
       "      <td>31</td>\n",
       "      <td>0.0</td>\n",
       "      <td>0</td>\n",
       "      <td>37</td>\n",
       "      <td>11</td>\n",
       "      <td>1</td>\n",
       "      <td>0.0</td>\n",
       "      <td>0.0</td>\n",
       "      <td>...</td>\n",
       "      <td>0.0</td>\n",
       "      <td>0.0</td>\n",
       "      <td>0.0</td>\n",
       "      <td>0.0</td>\n",
       "      <td>0.0</td>\n",
       "      <td>0.0</td>\n",
       "      <td>0.498535</td>\n",
       "      <td>0.0</td>\n",
       "      <td>0.0</td>\n",
       "      <td>0.0</td>\n",
       "    </tr>\n",
       "    <tr>\n",
       "      <td>3</td>\n",
       "      <td>12</td>\n",
       "      <td>2</td>\n",
       "      <td>32</td>\n",
       "      <td>1.0</td>\n",
       "      <td>0</td>\n",
       "      <td>40</td>\n",
       "      <td>11</td>\n",
       "      <td>4</td>\n",
       "      <td>0.0</td>\n",
       "      <td>0.0</td>\n",
       "      <td>...</td>\n",
       "      <td>0.0</td>\n",
       "      <td>0.0</td>\n",
       "      <td>0.0</td>\n",
       "      <td>0.0</td>\n",
       "      <td>0.0</td>\n",
       "      <td>0.0</td>\n",
       "      <td>0.498535</td>\n",
       "      <td>0.0</td>\n",
       "      <td>0.0</td>\n",
       "      <td>0.0</td>\n",
       "    </tr>\n",
       "    <tr>\n",
       "      <td>4</td>\n",
       "      <td>12</td>\n",
       "      <td>2</td>\n",
       "      <td>33</td>\n",
       "      <td>1.0</td>\n",
       "      <td>0</td>\n",
       "      <td>37</td>\n",
       "      <td>11</td>\n",
       "      <td>1</td>\n",
       "      <td>1.0</td>\n",
       "      <td>2.0</td>\n",
       "      <td>...</td>\n",
       "      <td>0.0</td>\n",
       "      <td>0.0</td>\n",
       "      <td>0.0</td>\n",
       "      <td>0.0</td>\n",
       "      <td>0.0</td>\n",
       "      <td>0.0</td>\n",
       "      <td>0.498535</td>\n",
       "      <td>0.0</td>\n",
       "      <td>0.0</td>\n",
       "      <td>0.0</td>\n",
       "    </tr>\n",
       "  </tbody>\n",
       "</table>\n",
       "<p>5 rows × 89 columns</p>\n",
       "</div>"
      ],
      "text/plain": [
       "   date_block_num  shop_id  item_id  item_cnt_month  city_code  \\\n",
       "0              12        2       27             0.0          0   \n",
       "1              12        2       30             0.0          0   \n",
       "2              12        2       31             0.0          0   \n",
       "3              12        2       32             1.0          0   \n",
       "4              12        2       33             1.0          0   \n",
       "\n",
       "   item_category_id_x  type_code  subtype_code  item_cnt_month_lag_1  \\\n",
       "0                  19          5            10                   0.0   \n",
       "1                  40         11             4                   0.0   \n",
       "2                  37         11             1                   0.0   \n",
       "3                  40         11             4                   0.0   \n",
       "4                  37         11             1                   1.0   \n",
       "\n",
       "   item_cnt_month_lag_2  ...  shop_name_tfidf_15  shop_name_tfidf_16  \\\n",
       "0                   0.0  ...                 0.0                 0.0   \n",
       "1                   0.0  ...                 0.0                 0.0   \n",
       "2                   0.0  ...                 0.0                 0.0   \n",
       "3                   0.0  ...                 0.0                 0.0   \n",
       "4                   2.0  ...                 0.0                 0.0   \n",
       "\n",
       "   shop_name_tfidf_17  shop_name_tfidf_18  shop_name_tfidf_19  \\\n",
       "0                 0.0                 0.0                 0.0   \n",
       "1                 0.0                 0.0                 0.0   \n",
       "2                 0.0                 0.0                 0.0   \n",
       "3                 0.0                 0.0                 0.0   \n",
       "4                 0.0                 0.0                 0.0   \n",
       "\n",
       "   shop_name_tfidf_20  shop_name_tfidf_21  shop_name_tfidf_22  \\\n",
       "0                 0.0            0.498535                 0.0   \n",
       "1                 0.0            0.498535                 0.0   \n",
       "2                 0.0            0.498535                 0.0   \n",
       "3                 0.0            0.498535                 0.0   \n",
       "4                 0.0            0.498535                 0.0   \n",
       "\n",
       "   shop_name_tfidf_23  shop_name_tfidf_24  \n",
       "0                 0.0                 0.0  \n",
       "1                 0.0                 0.0  \n",
       "2                 0.0                 0.0  \n",
       "3                 0.0                 0.0  \n",
       "4                 0.0                 0.0  \n",
       "\n",
       "[5 rows x 89 columns]"
      ]
     },
     "execution_count": 31,
     "metadata": {},
     "output_type": "execute_result"
    }
   ],
   "source": [
    "df.head()"
   ]
  },
  {
   "cell_type": "code",
   "execution_count": 32,
   "metadata": {},
   "outputs": [],
   "source": [
    "df = df.drop(['item_name', 'item_name_len', 'item_name_word_count', 'item_category_id_y',\n",
    "         'shop_name', 'shop_name_len', 'shop_name_word_count'], axis=1)"
   ]
  },
  {
   "cell_type": "code",
   "execution_count": 33,
   "metadata": {},
   "outputs": [],
   "source": [
    "categorical_features = ['shop_id', 'item_id', 'city_code', 'item_category_id_x', 'type_code', 'subtype_code']"
   ]
  },
  {
   "cell_type": "code",
   "execution_count": 34,
   "metadata": {
    "colab": {},
    "colab_type": "code",
    "id": "182Nklj967al"
   },
   "outputs": [
    {
     "data": {
      "text/html": [
       "['city_code', 'date_avg_item_cnt_lag_1', 'date_block_num', 'date_category_avg_item_cnt_lag_1', 'date_city_avg_item_cnt_lag_1', 'date_item_avg_item_cnt_lag_1', 'date_item_avg_item_cnt_lag_12', 'date_item_avg_item_cnt_lag_2', 'date_item_avg_item_cnt_lag_3', 'date_item_avg_item_cnt_lag_6', 'date_item_city_avg_item_cnt_lag_1', 'date_shop_avg_item_cnt_lag_1', 'date_shop_avg_item_cnt_lag_12', 'date_shop_avg_item_cnt_lag_2', 'date_shop_avg_item_cnt_lag_3', 'date_shop_avg_item_cnt_lag_6', 'date_shop_category_avg_item_cnt_lag_1', 'date_shop_subtype_avg_item_cnt_lag_1', 'date_shop_type_avg_item_cnt_lag_1', 'date_subtype_avg_item_cnt_lag_1', 'date_type_avg_item_cnt_lag_1', 'item_category_id_x', 'item_cnt_month', 'item_cnt_month_lag_1', 'item_cnt_month_lag_12', 'item_cnt_month_lag_2', 'item_cnt_month_lag_3', 'item_cnt_month_lag_6', 'item_id', 'item_name_tfidf_0', 'item_name_tfidf_1', 'item_name_tfidf_10', 'item_name_tfidf_11', 'item_name_tfidf_12', 'item_name_tfidf_13', 'item_name_tfidf_14', 'item_name_tfidf_15', 'item_name_tfidf_16', 'item_name_tfidf_17', 'item_name_tfidf_18', 'item_name_tfidf_19', 'item_name_tfidf_2', 'item_name_tfidf_20', 'item_name_tfidf_21', 'item_name_tfidf_22', 'item_name_tfidf_23', 'item_name_tfidf_24', 'item_name_tfidf_3', 'item_name_tfidf_4', 'item_name_tfidf_5', 'item_name_tfidf_6', 'item_name_tfidf_7', 'item_name_tfidf_8', 'item_name_tfidf_9', 'shop_id', 'shop_name_tfidf_0', 'shop_name_tfidf_1', 'shop_name_tfidf_10', 'shop_name_tfidf_11', 'shop_name_tfidf_12', 'shop_name_tfidf_13', 'shop_name_tfidf_14', 'shop_name_tfidf_15', 'shop_name_tfidf_16', 'shop_name_tfidf_17', 'shop_name_tfidf_18', 'shop_name_tfidf_19', 'shop_name_tfidf_2', 'shop_name_tfidf_20', 'shop_name_tfidf_21', 'shop_name_tfidf_22', 'shop_name_tfidf_23', 'shop_name_tfidf_24', 'shop_name_tfidf_3', 'shop_name_tfidf_4', 'shop_name_tfidf_5', 'shop_name_tfidf_6', 'shop_name_tfidf_7', 'shop_name_tfidf_8', 'shop_name_tfidf_9', 'subtype_code', 'type_code']"
      ],
      "text/plain": [
       "['city_code',\n",
       " 'date_avg_item_cnt_lag_1',\n",
       " 'date_block_num',\n",
       " 'date_category_avg_item_cnt_lag_1',\n",
       " 'date_city_avg_item_cnt_lag_1',\n",
       " 'date_item_avg_item_cnt_lag_1',\n",
       " 'date_item_avg_item_cnt_lag_12',\n",
       " 'date_item_avg_item_cnt_lag_2',\n",
       " 'date_item_avg_item_cnt_lag_3',\n",
       " 'date_item_avg_item_cnt_lag_6',\n",
       " 'date_item_city_avg_item_cnt_lag_1',\n",
       " 'date_shop_avg_item_cnt_lag_1',\n",
       " 'date_shop_avg_item_cnt_lag_12',\n",
       " 'date_shop_avg_item_cnt_lag_2',\n",
       " 'date_shop_avg_item_cnt_lag_3',\n",
       " 'date_shop_avg_item_cnt_lag_6',\n",
       " 'date_shop_category_avg_item_cnt_lag_1',\n",
       " 'date_shop_subtype_avg_item_cnt_lag_1',\n",
       " 'date_shop_type_avg_item_cnt_lag_1',\n",
       " 'date_subtype_avg_item_cnt_lag_1',\n",
       " 'date_type_avg_item_cnt_lag_1',\n",
       " 'item_category_id_x',\n",
       " 'item_cnt_month',\n",
       " 'item_cnt_month_lag_1',\n",
       " 'item_cnt_month_lag_12',\n",
       " 'item_cnt_month_lag_2',\n",
       " 'item_cnt_month_lag_3',\n",
       " 'item_cnt_month_lag_6',\n",
       " 'item_id',\n",
       " 'item_name_tfidf_0',\n",
       " 'item_name_tfidf_1',\n",
       " 'item_name_tfidf_10',\n",
       " 'item_name_tfidf_11',\n",
       " 'item_name_tfidf_12',\n",
       " 'item_name_tfidf_13',\n",
       " 'item_name_tfidf_14',\n",
       " 'item_name_tfidf_15',\n",
       " 'item_name_tfidf_16',\n",
       " 'item_name_tfidf_17',\n",
       " 'item_name_tfidf_18',\n",
       " 'item_name_tfidf_19',\n",
       " 'item_name_tfidf_2',\n",
       " 'item_name_tfidf_20',\n",
       " 'item_name_tfidf_21',\n",
       " 'item_name_tfidf_22',\n",
       " 'item_name_tfidf_23',\n",
       " 'item_name_tfidf_24',\n",
       " 'item_name_tfidf_3',\n",
       " 'item_name_tfidf_4',\n",
       " 'item_name_tfidf_5',\n",
       " 'item_name_tfidf_6',\n",
       " 'item_name_tfidf_7',\n",
       " 'item_name_tfidf_8',\n",
       " 'item_name_tfidf_9',\n",
       " 'shop_id',\n",
       " 'shop_name_tfidf_0',\n",
       " 'shop_name_tfidf_1',\n",
       " 'shop_name_tfidf_10',\n",
       " 'shop_name_tfidf_11',\n",
       " 'shop_name_tfidf_12',\n",
       " 'shop_name_tfidf_13',\n",
       " 'shop_name_tfidf_14',\n",
       " 'shop_name_tfidf_15',\n",
       " 'shop_name_tfidf_16',\n",
       " 'shop_name_tfidf_17',\n",
       " 'shop_name_tfidf_18',\n",
       " 'shop_name_tfidf_19',\n",
       " 'shop_name_tfidf_2',\n",
       " 'shop_name_tfidf_20',\n",
       " 'shop_name_tfidf_21',\n",
       " 'shop_name_tfidf_22',\n",
       " 'shop_name_tfidf_23',\n",
       " 'shop_name_tfidf_24',\n",
       " 'shop_name_tfidf_3',\n",
       " 'shop_name_tfidf_4',\n",
       " 'shop_name_tfidf_5',\n",
       " 'shop_name_tfidf_6',\n",
       " 'shop_name_tfidf_7',\n",
       " 'shop_name_tfidf_8',\n",
       " 'shop_name_tfidf_9',\n",
       " 'subtype_code',\n",
       " 'type_code']"
      ]
     },
     "execution_count": 34,
     "metadata": {},
     "output_type": "execute_result"
    }
   ],
   "source": [
    "sorted(list(df.columns))"
   ]
  },
  {
   "cell_type": "markdown",
   "metadata": {},
   "source": [
    "### Mean Encoding"
   ]
  },
  {
   "cell_type": "markdown",
   "metadata": {},
   "source": [
    "In Mean Encoding we take the number of labels into account along with the target variable to encode the labels into machine comprehensible values. Mean encoding represents a probability of your target variable, conditional on each value of the feature. In a way, it embodies the target variable in its encoded value."
   ]
  },
  {
   "cell_type": "code",
   "execution_count": 35,
   "metadata": {},
   "outputs": [],
   "source": [
    "df1 = deepcopy(df)\n",
    "df1 = df1.reset_index()\n",
    "\n",
    "cv = KFold(n_splits=5, shuffle=False)\n",
    "new_features = []\n",
    "\n",
    "check = False\n",
    "for train_idx, valid_idx in cv.split(df1):\n",
    "    \n",
    "    # Train/validation split\n",
    "    X_train, X_valid = df1.iloc[train_idx,:], df1.iloc[valid_idx,:]\n",
    "    \n",
    "    # Mean encoding\n",
    "    for col in categorical_features:\n",
    "        means = X_valid[col].map(X_train.groupby(col).item_cnt_month.mean())\n",
    "        col_new = col+'_target_enc'\n",
    "        X_valid[col_new] = means\n",
    "        \n",
    "        # Results\n",
    "        df1.loc[valid_idx, col_new] = X_valid\n",
    "        \n",
    "        # Store new columns\n",
    "        if check==False:\n",
    "            new_features.append(col_new)\n",
    "    \n",
    "    check = True"
   ]
  },
  {
   "cell_type": "code",
   "execution_count": 36,
   "metadata": {},
   "outputs": [
    {
     "data": {
      "text/html": [
       "<div>\n",
       "<style scoped>\n",
       "    .dataframe tbody tr th:only-of-type {\n",
       "        vertical-align: middle;\n",
       "    }\n",
       "\n",
       "    .dataframe tbody tr th {\n",
       "        vertical-align: top;\n",
       "    }\n",
       "\n",
       "    .dataframe thead th {\n",
       "        text-align: right;\n",
       "    }\n",
       "</style>\n",
       "<table border=\"1\" class=\"dataframe\">\n",
       "  <thead>\n",
       "    <tr style=\"text-align: right;\">\n",
       "      <th></th>\n",
       "      <th>index</th>\n",
       "      <th>date_block_num</th>\n",
       "      <th>shop_id</th>\n",
       "      <th>item_id</th>\n",
       "      <th>item_cnt_month</th>\n",
       "      <th>city_code</th>\n",
       "      <th>item_category_id_x</th>\n",
       "      <th>type_code</th>\n",
       "      <th>subtype_code</th>\n",
       "      <th>item_cnt_month_lag_1</th>\n",
       "      <th>...</th>\n",
       "      <th>shop_name_tfidf_21</th>\n",
       "      <th>shop_name_tfidf_22</th>\n",
       "      <th>shop_name_tfidf_23</th>\n",
       "      <th>shop_name_tfidf_24</th>\n",
       "      <th>shop_id_target_enc</th>\n",
       "      <th>item_id_target_enc</th>\n",
       "      <th>city_code_target_enc</th>\n",
       "      <th>item_category_id_x_target_enc</th>\n",
       "      <th>type_code_target_enc</th>\n",
       "      <th>subtype_code_target_enc</th>\n",
       "    </tr>\n",
       "  </thead>\n",
       "  <tbody>\n",
       "    <tr>\n",
       "      <td>0</td>\n",
       "      <td>0</td>\n",
       "      <td>12</td>\n",
       "      <td>2</td>\n",
       "      <td>27</td>\n",
       "      <td>0.0</td>\n",
       "      <td>0</td>\n",
       "      <td>19</td>\n",
       "      <td>5</td>\n",
       "      <td>10</td>\n",
       "      <td>0.0</td>\n",
       "      <td>...</td>\n",
       "      <td>0.498535</td>\n",
       "      <td>0.0</td>\n",
       "      <td>0.0</td>\n",
       "      <td>0.0</td>\n",
       "      <td>0.141602</td>\n",
       "      <td>0.040802</td>\n",
       "      <td>0.141602</td>\n",
       "      <td>0.550781</td>\n",
       "      <td>0.570312</td>\n",
       "      <td>0.511230</td>\n",
       "    </tr>\n",
       "    <tr>\n",
       "      <td>1</td>\n",
       "      <td>1</td>\n",
       "      <td>12</td>\n",
       "      <td>2</td>\n",
       "      <td>30</td>\n",
       "      <td>0.0</td>\n",
       "      <td>0</td>\n",
       "      <td>40</td>\n",
       "      <td>11</td>\n",
       "      <td>4</td>\n",
       "      <td>0.0</td>\n",
       "      <td>...</td>\n",
       "      <td>0.498535</td>\n",
       "      <td>0.0</td>\n",
       "      <td>0.0</td>\n",
       "      <td>0.0</td>\n",
       "      <td>0.141602</td>\n",
       "      <td>0.186646</td>\n",
       "      <td>0.141602</td>\n",
       "      <td>0.230835</td>\n",
       "      <td>0.197021</td>\n",
       "      <td>0.230835</td>\n",
       "    </tr>\n",
       "    <tr>\n",
       "      <td>2</td>\n",
       "      <td>2</td>\n",
       "      <td>12</td>\n",
       "      <td>2</td>\n",
       "      <td>31</td>\n",
       "      <td>0.0</td>\n",
       "      <td>0</td>\n",
       "      <td>37</td>\n",
       "      <td>11</td>\n",
       "      <td>1</td>\n",
       "      <td>0.0</td>\n",
       "      <td>...</td>\n",
       "      <td>0.498535</td>\n",
       "      <td>0.0</td>\n",
       "      <td>0.0</td>\n",
       "      <td>0.0</td>\n",
       "      <td>0.141602</td>\n",
       "      <td>0.315186</td>\n",
       "      <td>0.141602</td>\n",
       "      <td>0.157837</td>\n",
       "      <td>0.197021</td>\n",
       "      <td>0.158691</td>\n",
       "    </tr>\n",
       "    <tr>\n",
       "      <td>3</td>\n",
       "      <td>3</td>\n",
       "      <td>12</td>\n",
       "      <td>2</td>\n",
       "      <td>32</td>\n",
       "      <td>1.0</td>\n",
       "      <td>0</td>\n",
       "      <td>40</td>\n",
       "      <td>11</td>\n",
       "      <td>4</td>\n",
       "      <td>0.0</td>\n",
       "      <td>...</td>\n",
       "      <td>0.498535</td>\n",
       "      <td>0.0</td>\n",
       "      <td>0.0</td>\n",
       "      <td>0.0</td>\n",
       "      <td>0.141602</td>\n",
       "      <td>0.575195</td>\n",
       "      <td>0.141602</td>\n",
       "      <td>0.230835</td>\n",
       "      <td>0.197021</td>\n",
       "      <td>0.230835</td>\n",
       "    </tr>\n",
       "    <tr>\n",
       "      <td>4</td>\n",
       "      <td>4</td>\n",
       "      <td>12</td>\n",
       "      <td>2</td>\n",
       "      <td>33</td>\n",
       "      <td>1.0</td>\n",
       "      <td>0</td>\n",
       "      <td>37</td>\n",
       "      <td>11</td>\n",
       "      <td>1</td>\n",
       "      <td>1.0</td>\n",
       "      <td>...</td>\n",
       "      <td>0.498535</td>\n",
       "      <td>0.0</td>\n",
       "      <td>0.0</td>\n",
       "      <td>0.0</td>\n",
       "      <td>0.141602</td>\n",
       "      <td>0.336426</td>\n",
       "      <td>0.141602</td>\n",
       "      <td>0.157837</td>\n",
       "      <td>0.197021</td>\n",
       "      <td>0.158691</td>\n",
       "    </tr>\n",
       "  </tbody>\n",
       "</table>\n",
       "<p>5 rows × 89 columns</p>\n",
       "</div>"
      ],
      "text/plain": [
       "   index  date_block_num  shop_id  item_id  item_cnt_month  city_code  \\\n",
       "0      0              12        2       27             0.0          0   \n",
       "1      1              12        2       30             0.0          0   \n",
       "2      2              12        2       31             0.0          0   \n",
       "3      3              12        2       32             1.0          0   \n",
       "4      4              12        2       33             1.0          0   \n",
       "\n",
       "   item_category_id_x  type_code  subtype_code  item_cnt_month_lag_1  ...  \\\n",
       "0                  19          5            10                   0.0  ...   \n",
       "1                  40         11             4                   0.0  ...   \n",
       "2                  37         11             1                   0.0  ...   \n",
       "3                  40         11             4                   0.0  ...   \n",
       "4                  37         11             1                   1.0  ...   \n",
       "\n",
       "   shop_name_tfidf_21  shop_name_tfidf_22  shop_name_tfidf_23  \\\n",
       "0            0.498535                 0.0                 0.0   \n",
       "1            0.498535                 0.0                 0.0   \n",
       "2            0.498535                 0.0                 0.0   \n",
       "3            0.498535                 0.0                 0.0   \n",
       "4            0.498535                 0.0                 0.0   \n",
       "\n",
       "   shop_name_tfidf_24  shop_id_target_enc  item_id_target_enc  \\\n",
       "0                 0.0            0.141602            0.040802   \n",
       "1                 0.0            0.141602            0.186646   \n",
       "2                 0.0            0.141602            0.315186   \n",
       "3                 0.0            0.141602            0.575195   \n",
       "4                 0.0            0.141602            0.336426   \n",
       "\n",
       "   city_code_target_enc  item_category_id_x_target_enc  type_code_target_enc  \\\n",
       "0              0.141602                       0.550781              0.570312   \n",
       "1              0.141602                       0.230835              0.197021   \n",
       "2              0.141602                       0.157837              0.197021   \n",
       "3              0.141602                       0.230835              0.197021   \n",
       "4              0.141602                       0.157837              0.197021   \n",
       "\n",
       "   subtype_code_target_enc  \n",
       "0                 0.511230  \n",
       "1                 0.230835  \n",
       "2                 0.158691  \n",
       "3                 0.230835  \n",
       "4                 0.158691  \n",
       "\n",
       "[5 rows x 89 columns]"
      ]
     },
     "execution_count": 36,
     "metadata": {},
     "output_type": "execute_result"
    }
   ],
   "source": [
    "prior = np.mean(df1['item_cnt_month'].values)\n",
    "df1[new_features] = df1[new_features].fillna(prior)\n",
    "df1.head()"
   ]
  },
  {
   "cell_type": "code",
   "execution_count": 37,
   "metadata": {},
   "outputs": [],
   "source": [
    "df1 = df1.drop(categorical_features + ['index'], axis = 1)\n",
    "categorical_features = deepcopy(new_features)"
   ]
  },
  {
   "cell_type": "code",
   "execution_count": 38,
   "metadata": {},
   "outputs": [
    {
     "data": {
      "text/html": [
       "['city_code_target_enc', 'date_avg_item_cnt_lag_1', 'date_block_num', 'date_category_avg_item_cnt_lag_1', 'date_city_avg_item_cnt_lag_1', 'date_item_avg_item_cnt_lag_1', 'date_item_avg_item_cnt_lag_12', 'date_item_avg_item_cnt_lag_2', 'date_item_avg_item_cnt_lag_3', 'date_item_avg_item_cnt_lag_6', 'date_item_city_avg_item_cnt_lag_1', 'date_shop_avg_item_cnt_lag_1', 'date_shop_avg_item_cnt_lag_12', 'date_shop_avg_item_cnt_lag_2', 'date_shop_avg_item_cnt_lag_3', 'date_shop_avg_item_cnt_lag_6', 'date_shop_category_avg_item_cnt_lag_1', 'date_shop_subtype_avg_item_cnt_lag_1', 'date_shop_type_avg_item_cnt_lag_1', 'date_subtype_avg_item_cnt_lag_1', 'date_type_avg_item_cnt_lag_1', 'item_category_id_x_target_enc', 'item_cnt_month', 'item_cnt_month_lag_1', 'item_cnt_month_lag_12', 'item_cnt_month_lag_2', 'item_cnt_month_lag_3', 'item_cnt_month_lag_6', 'item_id_target_enc', 'item_name_tfidf_0', 'item_name_tfidf_1', 'item_name_tfidf_10', 'item_name_tfidf_11', 'item_name_tfidf_12', 'item_name_tfidf_13', 'item_name_tfidf_14', 'item_name_tfidf_15', 'item_name_tfidf_16', 'item_name_tfidf_17', 'item_name_tfidf_18', 'item_name_tfidf_19', 'item_name_tfidf_2', 'item_name_tfidf_20', 'item_name_tfidf_21', 'item_name_tfidf_22', 'item_name_tfidf_23', 'item_name_tfidf_24', 'item_name_tfidf_3', 'item_name_tfidf_4', 'item_name_tfidf_5', 'item_name_tfidf_6', 'item_name_tfidf_7', 'item_name_tfidf_8', 'item_name_tfidf_9', 'shop_id_target_enc', 'shop_name_tfidf_0', 'shop_name_tfidf_1', 'shop_name_tfidf_10', 'shop_name_tfidf_11', 'shop_name_tfidf_12', 'shop_name_tfidf_13', 'shop_name_tfidf_14', 'shop_name_tfidf_15', 'shop_name_tfidf_16', 'shop_name_tfidf_17', 'shop_name_tfidf_18', 'shop_name_tfidf_19', 'shop_name_tfidf_2', 'shop_name_tfidf_20', 'shop_name_tfidf_21', 'shop_name_tfidf_22', 'shop_name_tfidf_23', 'shop_name_tfidf_24', 'shop_name_tfidf_3', 'shop_name_tfidf_4', 'shop_name_tfidf_5', 'shop_name_tfidf_6', 'shop_name_tfidf_7', 'shop_name_tfidf_8', 'shop_name_tfidf_9', 'subtype_code_target_enc', 'type_code_target_enc']"
      ],
      "text/plain": [
       "['city_code_target_enc',\n",
       " 'date_avg_item_cnt_lag_1',\n",
       " 'date_block_num',\n",
       " 'date_category_avg_item_cnt_lag_1',\n",
       " 'date_city_avg_item_cnt_lag_1',\n",
       " 'date_item_avg_item_cnt_lag_1',\n",
       " 'date_item_avg_item_cnt_lag_12',\n",
       " 'date_item_avg_item_cnt_lag_2',\n",
       " 'date_item_avg_item_cnt_lag_3',\n",
       " 'date_item_avg_item_cnt_lag_6',\n",
       " 'date_item_city_avg_item_cnt_lag_1',\n",
       " 'date_shop_avg_item_cnt_lag_1',\n",
       " 'date_shop_avg_item_cnt_lag_12',\n",
       " 'date_shop_avg_item_cnt_lag_2',\n",
       " 'date_shop_avg_item_cnt_lag_3',\n",
       " 'date_shop_avg_item_cnt_lag_6',\n",
       " 'date_shop_category_avg_item_cnt_lag_1',\n",
       " 'date_shop_subtype_avg_item_cnt_lag_1',\n",
       " 'date_shop_type_avg_item_cnt_lag_1',\n",
       " 'date_subtype_avg_item_cnt_lag_1',\n",
       " 'date_type_avg_item_cnt_lag_1',\n",
       " 'item_category_id_x_target_enc',\n",
       " 'item_cnt_month',\n",
       " 'item_cnt_month_lag_1',\n",
       " 'item_cnt_month_lag_12',\n",
       " 'item_cnt_month_lag_2',\n",
       " 'item_cnt_month_lag_3',\n",
       " 'item_cnt_month_lag_6',\n",
       " 'item_id_target_enc',\n",
       " 'item_name_tfidf_0',\n",
       " 'item_name_tfidf_1',\n",
       " 'item_name_tfidf_10',\n",
       " 'item_name_tfidf_11',\n",
       " 'item_name_tfidf_12',\n",
       " 'item_name_tfidf_13',\n",
       " 'item_name_tfidf_14',\n",
       " 'item_name_tfidf_15',\n",
       " 'item_name_tfidf_16',\n",
       " 'item_name_tfidf_17',\n",
       " 'item_name_tfidf_18',\n",
       " 'item_name_tfidf_19',\n",
       " 'item_name_tfidf_2',\n",
       " 'item_name_tfidf_20',\n",
       " 'item_name_tfidf_21',\n",
       " 'item_name_tfidf_22',\n",
       " 'item_name_tfidf_23',\n",
       " 'item_name_tfidf_24',\n",
       " 'item_name_tfidf_3',\n",
       " 'item_name_tfidf_4',\n",
       " 'item_name_tfidf_5',\n",
       " 'item_name_tfidf_6',\n",
       " 'item_name_tfidf_7',\n",
       " 'item_name_tfidf_8',\n",
       " 'item_name_tfidf_9',\n",
       " 'shop_id_target_enc',\n",
       " 'shop_name_tfidf_0',\n",
       " 'shop_name_tfidf_1',\n",
       " 'shop_name_tfidf_10',\n",
       " 'shop_name_tfidf_11',\n",
       " 'shop_name_tfidf_12',\n",
       " 'shop_name_tfidf_13',\n",
       " 'shop_name_tfidf_14',\n",
       " 'shop_name_tfidf_15',\n",
       " 'shop_name_tfidf_16',\n",
       " 'shop_name_tfidf_17',\n",
       " 'shop_name_tfidf_18',\n",
       " 'shop_name_tfidf_19',\n",
       " 'shop_name_tfidf_2',\n",
       " 'shop_name_tfidf_20',\n",
       " 'shop_name_tfidf_21',\n",
       " 'shop_name_tfidf_22',\n",
       " 'shop_name_tfidf_23',\n",
       " 'shop_name_tfidf_24',\n",
       " 'shop_name_tfidf_3',\n",
       " 'shop_name_tfidf_4',\n",
       " 'shop_name_tfidf_5',\n",
       " 'shop_name_tfidf_6',\n",
       " 'shop_name_tfidf_7',\n",
       " 'shop_name_tfidf_8',\n",
       " 'shop_name_tfidf_9',\n",
       " 'subtype_code_target_enc',\n",
       " 'type_code_target_enc']"
      ]
     },
     "execution_count": 38,
     "metadata": {},
     "output_type": "execute_result"
    }
   ],
   "source": [
    "sorted(list(df1.columns))"
   ]
  },
  {
   "cell_type": "code",
   "execution_count": 39,
   "metadata": {},
   "outputs": [
    {
     "data": {
      "text/html": [
       "['cat_features.pkl']"
      ],
      "text/plain": [
       "['cat_features.pkl']"
      ]
     },
     "execution_count": 39,
     "metadata": {},
     "output_type": "execute_result"
    }
   ],
   "source": [
    "joblib.dump(categorical_features, \"cat_features.pkl\", compress = \"lz4\")"
   ]
  },
  {
   "cell_type": "code",
   "execution_count": 33,
   "metadata": {},
   "outputs": [
    {
     "data": {
      "text/html": [
       "['data.pkl']"
      ],
      "text/plain": [
       "['data.pkl']"
      ]
     },
     "execution_count": 33,
     "metadata": {},
     "output_type": "execute_result"
    }
   ],
   "source": [
    "joblib.dump(df1, \"data.pkl\", compress = \"lz4\")"
   ]
  },
  {
   "cell_type": "markdown",
   "metadata": {},
   "source": [
    "Now we have a checkpoint, so let's build our model and see if our efforts were for a good reason haha."
   ]
  },
  {
   "cell_type": "markdown",
   "metadata": {},
   "source": [
    "### Building Model\n",
    "So, at first sight i tried to implement a walk-forward cross-validation but i failed hahaha, but it worths the experience, now i'll try a more simple scheme called holdout, I'll keep January 2013 to September 2015 for training, October 2015 for validation and November 2015 for testing. Let's get it!!"
   ]
  },
  {
   "cell_type": "code",
   "execution_count": 3,
   "metadata": {},
   "outputs": [],
   "source": [
    "df1 = joblib.load(\"data.pkl\")"
   ]
  },
  {
   "cell_type": "code",
   "execution_count": 4,
   "metadata": {},
   "outputs": [],
   "source": [
    "categorical_features = joblib.load(\"cat_features.pkl\")"
   ]
  },
  {
   "cell_type": "code",
   "execution_count": 7,
   "metadata": {},
   "outputs": [],
   "source": [
    "data = deepcopy(df1)\n",
    "\n",
    "X_train = data[data['date_block_num']<33].drop(['item_cnt_month'], axis=1)\n",
    "y_train = data[data['date_block_num']<33]['item_cnt_month']\n",
    "\n",
    "X_val = data[data['date_block_num']==33].drop(['item_cnt_month'], axis=1)\n",
    "y_val = data[data['date_block_num']==33]['item_cnt_month']\n",
    "\n",
    "X_test =  data[data['date_block_num']==34].drop(['item_cnt_month'], axis=1)"
   ]
  },
  {
   "cell_type": "markdown",
   "metadata": {},
   "source": [
    "I'll use LightGBM Regressor since i have some problems to install XGBoost on my laptop, if anyone could help me with that i'll be grateful."
   ]
  },
  {
   "cell_type": "code",
   "execution_count": 8,
   "metadata": {},
   "outputs": [
    {
     "name": "stdout",
     "output_type": "stream",
     "text": [
      "Training until validation scores don't improve for 200 rounds\n",
      "[50]\tvalid_0's l2: 1.05034\n",
      "[100]\tvalid_0's l2: 0.968757\n",
      "[150]\tvalid_0's l2: 0.933547\n",
      "[200]\tvalid_0's l2: 0.921956\n",
      "[250]\tvalid_0's l2: 0.914976\n",
      "[300]\tvalid_0's l2: 0.912097\n",
      "[350]\tvalid_0's l2: 0.914385\n",
      "[400]\tvalid_0's l2: 0.916155\n",
      "[450]\tvalid_0's l2: 0.915565\n",
      "[500]\tvalid_0's l2: 0.915864\n",
      "Did not meet early stopping. Best iteration is:\n",
      "[302]\tvalid_0's l2: 0.911935\n"
     ]
    }
   ],
   "source": [
    "lgb_train = lgb.Dataset(X_train, y_train)\n",
    "lgb_valid = lgb.Dataset(X_val, y_val)\n",
    "\n",
    "params = {\n",
    "    'learning_rate': 0.01,\n",
    "     'max_depth': 7,\n",
    "     'min_data_in_leaf': 5,\n",
    "     'n_estimators': 500,\n",
    "     'num_leaves': 75,\n",
    "     'objective': 'mse',\n",
    "     'random_state': 42,\n",
    "     'n_jobs': -1,\n",
    "}\n",
    "\n",
    "model_lgbm = lgb.train(params, lgb_train, num_boost_round=1000, valid_sets=lgb_valid,\n",
    "                       early_stopping_rounds=200, categorical_feature=categorical_features,\n",
    "                       verbose_eval=50)"
   ]
  },
  {
   "cell_type": "code",
   "execution_count": 9,
   "metadata": {},
   "outputs": [
    {
     "name": "stdout",
     "output_type": "stream",
     "text": [
      "RMSE LightGBM: 0.955\n"
     ]
    }
   ],
   "source": [
    "lgbm_pred = model_lgbm.predict(X_val)\n",
    "print(f'RMSE LightGBM: {round(np.sqrt(mean_squared_error(y_val, lgbm_pred)),4)}')"
   ]
  },
  {
   "cell_type": "code",
   "execution_count": 10,
   "metadata": {},
   "outputs": [
    {
     "data": {
      "image/png": "[encoded data removed]",
      "text/plain": [
       "<Figure size 720x720 with 1 Axes>"
      ]
     },
     "metadata": {
      "needs_background": "light"
     },
     "output_type": "display_data"
    }
   ],
   "source": [
    "lgb.plot_importance(model_lgbm, max_num_features=20, figsize=(10,10), title=\"Feature importance (LightGBM)\")\n",
    "plt.show()"
   ]
  },
  {
   "cell_type": "code",
   "execution_count": 11,
   "metadata": {},
   "outputs": [
    {
     "data": {
      "text/html": [
       "['model_lgbm.pkl']"
      ],
      "text/plain": [
       "['model_lgbm.pkl']"
      ]
     },
     "execution_count": 11,
     "metadata": {},
     "output_type": "execute_result"
    }
   ],
   "source": [
    "joblib.dump(model_lgbm, 'model_lgbm.pkl')"
   ]
  },
  {
   "cell_type": "markdown",
   "metadata": {},
   "source": [
    "Yeah, we rock it, our features look's good, we had a good RMSE of almost 0.95. But let's continue it, what if we try a Linear Regression? We could use it for ensembling in the future :D."
   ]
  },
  {
   "cell_type": "code",
   "execution_count": 12,
   "metadata": {},
   "outputs": [],
   "source": [
    "# For a better regression we should standardize our data\n",
    "scaler = StandardScaler().fit(X_train)\n",
    "X_train_std = scaler.transform(X_train)\n",
    "X_val_std = scaler.transform(X_val)"
   ]
  },
  {
   "cell_type": "code",
   "execution_count": 13,
   "metadata": {},
   "outputs": [
    {
     "data": {
      "text/plain": [
       "LinearRegression(copy_X=True, fit_intercept=True, n_jobs=None, normalize=False)"
      ]
     },
     "execution_count": 13,
     "metadata": {},
     "output_type": "execute_result"
    }
   ],
   "source": [
    "model_linreg = LinearRegression(fit_intercept=True)\n",
    "model_linreg.fit(X_train_std, y_train)"
   ]
  },
  {
   "cell_type": "code",
   "execution_count": 14,
   "metadata": {},
   "outputs": [
    {
     "name": "stdout",
     "output_type": "stream",
     "text": [
      "0.9692220426681442\n"
     ]
    }
   ],
   "source": [
    "print(np.sqrt(mean_squared_error(y_val, model_linreg.predict(X_val_std))))"
   ]
  },
  {
   "cell_type": "code",
   "execution_count": 53,
   "metadata": {},
   "outputs": [
    {
     "data": {
      "text/html": [
       "['model_linreg.pkl']"
      ],
      "text/plain": [
       "['model_linreg.pkl']"
      ]
     },
     "execution_count": 53,
     "metadata": {},
     "output_type": "execute_result"
    }
   ],
   "source": [
    "joblib.dump(model_linreg, 'model_linreg.pkl')"
   ]
  },
  {
   "cell_type": "markdown",
   "metadata": {},
   "source": [
    "Wow, as we can see a simple Linear Regression can give us awesome results, if we put ourselfs into company's position we probably would invest to use a less complicated model such as Linear Regression than LightGBM since gave us similar results, it's more scalable and stable than LightGBM. Now that we have two cool models, let's ensemble it!!"
   ]
  },
  {
   "cell_type": "markdown",
   "metadata": {},
   "source": [
    "### Ensembling and Creating our Submission"
   ]
  },
  {
   "cell_type": "markdown",
   "metadata": {},
   "source": [
    "Creating 1st generation features"
   ]
  },
  {
   "cell_type": "code",
   "execution_count": 15,
   "metadata": {},
   "outputs": [],
   "source": [
    "pred_lgb = model_lgbm.predict(X_val)\n",
    "pred_lr = model_linreg.predict(X_val_std)\n",
    "X_val_level2 = np.c_[pred_lr, pred_lgb] "
   ]
  },
  {
   "cell_type": "markdown",
   "metadata": {},
   "source": [
    "Creating 2nd generation features"
   ]
  },
  {
   "cell_type": "code",
   "execution_count": 16,
   "metadata": {},
   "outputs": [],
   "source": [
    "X_train = data[data['date_block_num']<=32].drop(['item_cnt_month'], axis=1)\n",
    "y_train = data[data['date_block_num']<=32]['item_cnt_month']\n",
    "X_val = data[data['date_block_num']==33].drop(['item_cnt_month'], axis=1)\n",
    "y_val = data[data['date_block_num']==33]['item_cnt_month']"
   ]
  },
  {
   "cell_type": "code",
   "execution_count": 17,
   "metadata": {},
   "outputs": [
    {
     "name": "stdout",
     "output_type": "stream",
     "text": [
      "Test date_block_num is 34\n"
     ]
    }
   ],
   "source": [
    "dates = data['date_block_num']\n",
    "last_block = dates.max()\n",
    "print(f\"Test date_block_num is {last_block}\")\n",
    "dates_train = dates[dates < last_block]\n",
    "dates_test  = dates[dates == last_block]\n",
    "periods = [26, 27, 28, 29, 30, 31, 32]"
   ]
  },
  {
   "cell_type": "code",
   "execution_count": 18,
   "metadata": {},
   "outputs": [],
   "source": [
    "dates_train_level2 = dates_train[dates_train.isin(periods)]\n",
    "y_train_level2 = y_train[dates_train.isin(periods)]\n",
    "X_train_level2 = np.zeros([y_train_level2.shape[0], 2])"
   ]
  },
  {
   "cell_type": "code",
   "execution_count": 19,
   "metadata": {},
   "outputs": [
    {
     "name": "stdout",
     "output_type": "stream",
     "text": [
      "cur_block_num: 26\n",
      "Linear regression\n",
      "LightGBM\n",
      "Training until validation scores don't improve for 50 rounds\n",
      "[50]\tvalid_0's l2: 0.811717\n",
      "[100]\tvalid_0's l2: 0.676138\n",
      "[150]\tvalid_0's l2: 0.623593\n",
      "[200]\tvalid_0's l2: 0.601802\n",
      "[250]\tvalid_0's l2: 0.592101\n",
      "[300]\tvalid_0's l2: 0.587682\n",
      "[350]\tvalid_0's l2: 0.585242\n",
      "[400]\tvalid_0's l2: 0.584255\n",
      "[450]\tvalid_0's l2: 0.582565\n",
      "[500]\tvalid_0's l2: 0.581749\n",
      "Did not meet early stopping. Best iteration is:\n",
      "[496]\tvalid_0's l2: 0.581691\n",
      "cur_block_num: 27\n",
      "Linear regression\n",
      "LightGBM\n",
      "Training until validation scores don't improve for 50 rounds\n",
      "[50]\tvalid_0's l2: 0.905291\n",
      "[100]\tvalid_0's l2: 0.821045\n",
      "[150]\tvalid_0's l2: 0.801545\n",
      "[200]\tvalid_0's l2: 0.799174\n",
      "[250]\tvalid_0's l2: 0.79663\n",
      "[300]\tvalid_0's l2: 0.798546\n",
      "Early stopping, best iteration is:\n",
      "[267]\tvalid_0's l2: 0.795906\n",
      "cur_block_num: 28\n",
      "Linear regression\n",
      "LightGBM\n",
      "Training until validation scores don't improve for 50 rounds\n",
      "[50]\tvalid_0's l2: 0.850905\n",
      "[100]\tvalid_0's l2: 0.718027\n",
      "[150]\tvalid_0's l2: 0.661958\n",
      "[200]\tvalid_0's l2: 0.637077\n",
      "[250]\tvalid_0's l2: 0.623142\n",
      "[300]\tvalid_0's l2: 0.61806\n",
      "[350]\tvalid_0's l2: 0.615112\n",
      "[400]\tvalid_0's l2: 0.615937\n",
      "Early stopping, best iteration is:\n",
      "[351]\tvalid_0's l2: 0.61497\n",
      "cur_block_num: 29\n",
      "Linear regression\n",
      "LightGBM\n",
      "Training until validation scores don't improve for 50 rounds\n",
      "[50]\tvalid_0's l2: 0.804429\n",
      "[100]\tvalid_0's l2: 0.676019\n",
      "[150]\tvalid_0's l2: 0.627184\n",
      "[200]\tvalid_0's l2: 0.607101\n",
      "[250]\tvalid_0's l2: 0.594733\n",
      "[300]\tvalid_0's l2: 0.58945\n",
      "[350]\tvalid_0's l2: 0.586813\n",
      "[400]\tvalid_0's l2: 0.588291\n",
      "Early stopping, best iteration is:\n",
      "[371]\tvalid_0's l2: 0.586195\n",
      "cur_block_num: 30\n",
      "Linear regression\n",
      "LightGBM\n",
      "Training until validation scores don't improve for 50 rounds\n",
      "[50]\tvalid_0's l2: 0.706719\n",
      "[100]\tvalid_0's l2: 0.598336\n",
      "[150]\tvalid_0's l2: 0.553265\n",
      "[200]\tvalid_0's l2: 0.53412\n",
      "[250]\tvalid_0's l2: 0.524069\n",
      "[300]\tvalid_0's l2: 0.518812\n",
      "[350]\tvalid_0's l2: 0.515839\n",
      "[400]\tvalid_0's l2: 0.514191\n",
      "[450]\tvalid_0's l2: 0.512902\n",
      "[500]\tvalid_0's l2: 0.511772\n",
      "Did not meet early stopping. Best iteration is:\n",
      "[498]\tvalid_0's l2: 0.511742\n",
      "cur_block_num: 31\n",
      "Linear regression\n",
      "LightGBM\n",
      "Training until validation scores don't improve for 50 rounds\n",
      "[50]\tvalid_0's l2: 0.849913\n",
      "[100]\tvalid_0's l2: 0.73397\n",
      "[150]\tvalid_0's l2: 0.679212\n",
      "[200]\tvalid_0's l2: 0.650992\n",
      "[250]\tvalid_0's l2: 0.636328\n",
      "[300]\tvalid_0's l2: 0.627352\n",
      "[350]\tvalid_0's l2: 0.623702\n",
      "[400]\tvalid_0's l2: 0.618897\n",
      "[450]\tvalid_0's l2: 0.617461\n",
      "[500]\tvalid_0's l2: 0.61632\n",
      "Did not meet early stopping. Best iteration is:\n",
      "[497]\tvalid_0's l2: 0.616108\n",
      "cur_block_num: 32\n",
      "Linear regression\n",
      "LightGBM\n",
      "Training until validation scores don't improve for 50 rounds\n",
      "[50]\tvalid_0's l2: 1.05217\n",
      "[100]\tvalid_0's l2: 0.938566\n",
      "[150]\tvalid_0's l2: 0.886783\n",
      "[200]\tvalid_0's l2: 0.862546\n",
      "[250]\tvalid_0's l2: 0.849362\n",
      "[300]\tvalid_0's l2: 0.841833\n",
      "[350]\tvalid_0's l2: 0.837083\n",
      "[400]\tvalid_0's l2: 0.834416\n",
      "[450]\tvalid_0's l2: 0.831274\n",
      "[500]\tvalid_0's l2: 0.82967\n",
      "Did not meet early stopping. Best iteration is:\n",
      "[497]\tvalid_0's l2: 0.82963\n"
     ]
    }
   ],
   "source": [
    "for cur_block_num in periods:\n",
    "    \n",
    "    print('cur_block_num:', cur_block_num)\n",
    "    \n",
    "    # 1. Split 'X_train' into parts\n",
    "    x = data[data['date_block_num']<cur_block_num].drop(['item_cnt_month'], axis=1)\n",
    "    y = data[data['date_block_num']<cur_block_num]['item_cnt_month'].values\n",
    "    x_test =  data[data['date_block_num']==cur_block_num].drop(['item_cnt_month'], axis=1)\n",
    "    y_test =  data[data['date_block_num']==cur_block_num]['item_cnt_month'].values\n",
    "    \n",
    "    # 2. Fit linear regression\n",
    "    print('Linear regression')\n",
    "    lr = LinearRegression(fit_intercept=True, normalize=True)\n",
    "    scaler = StandardScaler().fit(x)\n",
    "    x_std = scaler.transform(x)\n",
    "    x_test_std = scaler.transform(x_test)\n",
    "    lr.fit(x_std, y)\n",
    "    y_test_linreg = lr.predict(x_test_std)\n",
    "    \n",
    "    # 3. Fit LightGBM and put predictions\n",
    "    print('LightGBM')\n",
    "    n_trees = 500\n",
    "    lgb_train = lgb.Dataset(x, y)\n",
    "    lgb_valid = lgb.Dataset(x_test, y_test)\n",
    "    model_lgbm = lgb.train(params, lgb_train, num_boost_round=n_trees,\n",
    "                           valid_sets=lgb_valid, early_stopping_rounds=50,\n",
    "                           verbose_eval=50)\n",
    "    y_test_lgb = model_lgbm.predict(x_test)\n",
    "    \n",
    "    # 4. Store predictions from 2. and 3. in the right place of 'X_train_level2'\n",
    "    X_train_level2[dates_train_level2 == cur_block_num] = np.c_[y_test_linreg, y_test_lgb]"
   ]
  },
  {
   "cell_type": "code",
   "execution_count": 20,
   "metadata": {},
   "outputs": [
    {
     "data": {
      "image/png": "[encoded data removed]",
      "text/plain": [
       "<Figure size 720x504 with 1 Axes>"
      ]
     },
     "metadata": {
      "needs_background": "light"
     },
     "output_type": "display_data"
    }
   ],
   "source": [
    "plt.figure(figsize=(10,7))\n",
    "plt.scatter(X_train_level2[:,0], X_train_level2[:,1], marker='o', alpha=0.15)\n",
    "plt.xlabel('Linear regression test set predictions')\n",
    "plt.ylabel('LightGBM test set predictions')\n",
    "plt.show()"
   ]
  },
  {
   "cell_type": "code",
   "execution_count": 21,
   "metadata": {},
   "outputs": [],
   "source": [
    "# Stacking both models\n",
    "y_train_level2 = y_train[dates_train.isin(periods)]\n",
    "lr_stack = LinearRegression().fit(X_train_level2, y_train_level2)"
   ]
  },
  {
   "cell_type": "code",
   "execution_count": 22,
   "metadata": {},
   "outputs": [
    {
     "name": "stdout",
     "output_type": "stream",
     "text": [
      "Train RMSE: 0.8034767873144171\n",
      "Test RMSE: 0.9503757466700925\n"
     ]
    }
   ],
   "source": [
    "train_preds = lr_stack.predict(X_train_level2)\n",
    "rmse_train = np.sqrt(mean_squared_error(y_train_level2, train_preds))\n",
    "\n",
    "val_preds = lr_stack.predict(X_val_level2)\n",
    "rmse_val = np.sqrt(mean_squared_error(y_val, val_preds))\n",
    "\n",
    "print(f\"Train RMSE: {rmse_train}\\nTest RMSE: {rmse_val}\")"
   ]
  },
  {
   "cell_type": "code",
   "execution_count": 23,
   "metadata": {},
   "outputs": [],
   "source": [
    "# Creating submission files for each model\n",
    "y_test_lgbm = model_lgbm.predict(X_test).clip(0, 20)\n",
    "y_test_linreg = model_linreg.predict(X_test).clip(0, 20)\n",
    "\n",
    "lgbm_sub = pd.DataFrame({'ID': test.index, 'item_cnt_month': y_test_lgbm})\n",
    "linreg_sub = pd.DataFrame({'ID': test.index, 'item_cnt_month': y_test_linreg})\n",
    "\n",
    "lgbm_sub.to_csv(\"submission_lgbm.csv\", index = False)\n",
    "linreg_sub.to_csv(\"submission_linreg.csv\", index = False)"
   ]
  },
  {
   "cell_type": "markdown",
   "metadata": {},
   "source": [
    "Used the LGBM for submission and got public and private LB scores as: 0.980493 and 0.983770."
   ]
  },
  {
   "cell_type": "code",
   "execution_count": null,
   "metadata": {},
   "outputs": [],
   "source": []
  }
 ],
 "metadata": {
  "colab": {
   "collapsed_sections": [],
   "machine_shape": "hm",
   "name": "Final_Project.ipynb",
   "provenance": []
  },
  "kernelspec": {
   "display_name": "Python 3",
   "language": "python",
   "name": "python3"
  },
  "language_info": {
   "codemirror_mode": {
    "name": "ipython",
    "version": 3
   },
   "file_extension": ".py",
   "mimetype": "text/x-python",
   "name": "python",
   "nbconvert_exporter": "python",
   "pygments_lexer": "ipython3",
   "version": "3.7.4"
  },
  "widgets": {
   "application/vnd.jupyter.widget-state+json": {
    "0ea0014da47b4228b783bddd9ecb1c12": {
     "model_module": "@jupyter-widgets/controls",
     "model_name": "ProgressStyleModel",
     "state": {
      "_model_module": "@jupyter-widgets/controls",
      "_model_module_version": "1.5.0",
      "_model_name": "ProgressStyleModel",
      "_view_count": null,
      "_view_module": "@jupyter-widgets/base",
      "_view_module_version": "1.2.0",
      "_view_name": "StyleView",
      "bar_color": null,
      "description_width": "initial"
     }
    },
    "3b02bc9cfb294c58bc188cf2fffcd14f": {
     "model_module": "@jupyter-widgets/base",
     "model_name": "LayoutModel",
     "state": {
      "_model_module": "@jupyter-widgets/base",
      "_model_module_version": "1.2.0",
      "_model_name": "LayoutModel",
      "_view_count": null,
      "_view_module": "@jupyter-widgets/base",
      "_view_module_version": "1.2.0",
      "_view_name": "LayoutView",
      "align_content": null,
      "align_items": null,
      "align_self": null,
      "border": null,
      "bottom": null,
      "display": null,
      "flex": null,
      "flex_flow": null,
      "grid_area": null,
      "grid_auto_columns": null,
      "grid_auto_flow": null,
      "grid_auto_rows": null,
      "grid_column": null,
      "grid_gap": null,
      "grid_row": null,
      "grid_template_areas": null,
      "grid_template_columns": null,
      "grid_template_rows": null,
      "height": null,
      "justify_content": null,
      "justify_items": null,
      "left": null,
      "margin": null,
      "max_height": null,
      "max_width": null,
      "min_height": null,
      "min_width": null,
      "object_fit": null,
      "object_position": null,
      "order": null,
      "overflow": null,
      "overflow_x": null,
      "overflow_y": null,
      "padding": null,
      "right": null,
      "top": null,
      "visibility": null,
      "width": null
     }
    },
    "3b68095954364a599042a63829a5f700": {
     "model_module": "@jupyter-widgets/controls",
     "model_name": "IntProgressModel",
     "state": {
      "_dom_classes": [],
      "_model_module": "@jupyter-widgets/controls",
      "_model_module_version": "1.5.0",
      "_model_name": "IntProgressModel",
      "_view_count": null,
      "_view_module": "@jupyter-widgets/controls",
      "_view_module_version": "1.5.0",
      "_view_name": "ProgressView",
      "bar_style": "",
      "description": " 40%",
      "description_tooltip": null,
      "layout": "IPY_MODEL_bc500a8582f943efb1f0e0b2a14b4a68",
      "max": 5,
      "min": 0,
      "orientation": "horizontal",
      "style": "IPY_MODEL_0ea0014da47b4228b783bddd9ecb1c12",
      "value": 2
     }
    },
    "3d261684583e4b41af8cacc8e76278d7": {
     "model_module": "@jupyter-widgets/controls",
     "model_name": "HBoxModel",
     "state": {
      "_dom_classes": [],
      "_model_module": "@jupyter-widgets/controls",
      "_model_module_version": "1.5.0",
      "_model_name": "HBoxModel",
      "_view_count": null,
      "_view_module": "@jupyter-widgets/controls",
      "_view_module_version": "1.5.0",
      "_view_name": "HBoxView",
      "box_style": "",
      "children": [
       "IPY_MODEL_3b68095954364a599042a63829a5f700",
       "IPY_MODEL_c89beedd7b11482383061a9b47b667ac"
      ],
      "layout": "IPY_MODEL_3b02bc9cfb294c58bc188cf2fffcd14f"
     }
    },
    "5de0f69929424668bed627e847ef7fe4": {
     "model_module": "@jupyter-widgets/base",
     "model_name": "LayoutModel",
     "state": {
      "_model_module": "@jupyter-widgets/base",
      "_model_module_version": "1.2.0",
      "_model_name": "LayoutModel",
      "_view_count": null,
      "_view_module": "@jupyter-widgets/base",
      "_view_module_version": "1.2.0",
      "_view_name": "LayoutView",
      "align_content": null,
      "align_items": null,
      "align_self": null,
      "border": null,
      "bottom": null,
      "display": null,
      "flex": null,
      "flex_flow": null,
      "grid_area": null,
      "grid_auto_columns": null,
      "grid_auto_flow": null,
      "grid_auto_rows": null,
      "grid_column": null,
      "grid_gap": null,
      "grid_row": null,
      "grid_template_areas": null,
      "grid_template_columns": null,
      "grid_template_rows": null,
      "height": null,
      "justify_content": null,
      "justify_items": null,
      "left": null,
      "margin": null,
      "max_height": null,
      "max_width": null,
      "min_height": null,
      "min_width": null,
      "object_fit": null,
      "object_position": null,
      "order": null,
      "overflow": null,
      "overflow_x": null,
      "overflow_y": null,
      "padding": null,
      "right": null,
      "top": null,
      "visibility": null,
      "width": null
     }
    },
    "bc500a8582f943efb1f0e0b2a14b4a68": {
     "model_module": "@jupyter-widgets/base",
     "model_name": "LayoutModel",
     "state": {
      "_model_module": "@jupyter-widgets/base",
      "_model_module_version": "1.2.0",
      "_model_name": "LayoutModel",
      "_view_count": null,
      "_view_module": "@jupyter-widgets/base",
      "_view_module_version": "1.2.0",
      "_view_name": "LayoutView",
      "align_content": null,
      "align_items": null,
      "align_self": null,
      "border": null,
      "bottom": null,
      "display": null,
      "flex": null,
      "flex_flow": null,
      "grid_area": null,
      "grid_auto_columns": null,
      "grid_auto_flow": null,
      "grid_auto_rows": null,
      "grid_column": null,
      "grid_gap": null,
      "grid_row": null,
      "grid_template_areas": null,
      "grid_template_columns": null,
      "grid_template_rows": null,
      "height": null,
      "justify_content": null,
      "justify_items": null,
      "left": null,
      "margin": null,
      "max_height": null,
      "max_width": null,
      "min_height": null,
      "min_width": null,
      "object_fit": null,
      "object_position": null,
      "order": null,
      "overflow": null,
      "overflow_x": null,
      "overflow_y": null,
      "padding": null,
      "right": null,
      "top": null,
      "visibility": null,
      "width": null
     }
    },
    "c89beedd7b11482383061a9b47b667ac": {
     "model_module": "@jupyter-widgets/controls",
     "model_name": "HTMLModel",
     "state": {
      "_dom_classes": [],
      "_model_module": "@jupyter-widgets/controls",
      "_model_module_version": "1.5.0",
      "_model_name": "HTMLModel",
      "_view_count": null,
      "_view_module": "@jupyter-widgets/controls",
      "_view_module_version": "1.5.0",
      "_view_name": "HTMLView",
      "description": "",
      "description_tooltip": null,
      "layout": "IPY_MODEL_5de0f69929424668bed627e847ef7fe4",
      "placeholder": "​",
      "style": "IPY_MODEL_f93c55c9760b42bd999b4b82caa961d2",
      "value": " 2/5 [00:19&lt;00:26,  8.86s/it]"
     }
    },
    "f93c55c9760b42bd999b4b82caa961d2": {
     "model_module": "@jupyter-widgets/controls",
     "model_name": "DescriptionStyleModel",
     "state": {
      "_model_module": "@jupyter-widgets/controls",
      "_model_module_version": "1.5.0",
      "_model_name": "DescriptionStyleModel",
      "_view_count": null,
      "_view_module": "@jupyter-widgets/base",
      "_view_module_version": "1.2.0",
      "_view_name": "StyleView",
      "description_width": ""
     }
    }
   }
  }
 },
 "nbformat": 4,
 "nbformat_minor": 4
}
